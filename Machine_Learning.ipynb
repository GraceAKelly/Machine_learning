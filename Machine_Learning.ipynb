{
 "cells": [
  {
   "cell_type": "markdown",
   "metadata": {},
   "source": [
    "## Machine Learning and Statistics Project - Boston House Price Dataset\n",
    "![Numpy](https://cdn-images-1.medium.com/max/1200/1*L0yNfRdiH8DfYuiJTKPxww.png)"
   ]
  },
  {
   "cell_type": "markdown",
   "metadata": {},
   "source": [
    "The Boston Housing dataset contains US census data published in 1978 of houses in various parts of Boston. The dataset contains information on 505 samples with 12 measurements for each sample. The samples are contained in the rows of the dataset and the measurements in the columns. \n",
    "\n",
    "The following is analysis of the dataset using descriptive and inferential statistics:"
   ]
  },
  {
   "cell_type": "code",
   "execution_count": 1,
   "metadata": {},
   "outputs": [],
   "source": [
    "import numpy as np  # import numnerical python with shorthand  \n",
    "import matplotlib.pyplot as plt  # shorthand import for matplotlib library\n",
    "import seaborn as sns # import seaborn for advanced graphics\n",
    "import pandas as pd # import pandas for data structures and operations for manipulating numerical tables and time series\n",
    "import sklearn # for Machine Learning in Python\n",
    "import scipy.stats as stats # statisitcal function\n",
    "import statsmodels.api as sm # conducting statistical tests, and statistical data exploration\n",
    "%matplotlib inline \n",
    "from matplotlib import rcParams # improved plots from matplotlib\n",
    "from sklearn.model_selection import train_test_split #Split arrays or matrices into random train and test subsets\n",
    "from sklearn import svm # support vector classification\n",
    "import sklearn.preprocessing as pre # For encoding categorical variables.\n",
    "import sklearn.model_selection as mod # For splitting into training and test sets.\n",
    "import sklearn.decomposition as dec"
   ]
  },
  {
   "cell_type": "code",
   "execution_count": 2,
   "metadata": {},
   "outputs": [],
   "source": [
    "# make the plots bigger\n",
    "plt.rcParams['figure.figsize'] = (20.0, 10.0)"
   ]
  },
  {
   "cell_type": "markdown",
   "metadata": {},
   "source": [
    "The Boston House Price Dataset is loaded into the jupyter notebook from the scikit learn library"
   ]
  },
  {
   "cell_type": "code",
   "execution_count": 3,
   "metadata": {},
   "outputs": [],
   "source": [
    "# Load the Boston House Price dataset from scikit-learn library\n",
    "from sklearn.datasets import load_boston\n",
    "boston_dataset = load_boston()"
   ]
  },
  {
   "cell_type": "code",
   "execution_count": 4,
   "metadata": {},
   "outputs": [
    {
     "name": "stdout",
     "output_type": "stream",
     "text": [
      "dict_keys(['data', 'target', 'feature_names', 'DESCR', 'filename'])\n"
     ]
    }
   ],
   "source": [
    "#Print the values of the Boston dataset\n",
    "print(boston_dataset.keys())"
   ]
  },
  {
   "cell_type": "markdown",
   "metadata": {},
   "source": [
    "data: contains the information for various houses\n",
    "\n",
    "target: prices of the house\n",
    "\n",
    "feature_names: names of the features\n",
    "\n",
    "DESCR: describes the dataset"
   ]
  },
  {
   "cell_type": "markdown",
   "metadata": {},
   "source": [
    "Describe the shape of the dataset rows, columns"
   ]
  },
  {
   "cell_type": "code",
   "execution_count": 5,
   "metadata": {},
   "outputs": [
    {
     "name": "stdout",
     "output_type": "stream",
     "text": [
      "(506, 13)\n"
     ]
    }
   ],
   "source": [
    "# Give the description of the dataset\n",
    "print(boston_dataset.data.shape)"
   ]
  },
  {
   "cell_type": "code",
   "execution_count": 6,
   "metadata": {},
   "outputs": [
    {
     "name": "stdout",
     "output_type": "stream",
     "text": [
      "(506,)\n"
     ]
    }
   ],
   "source": [
    "print(boston_dataset.target.shape)"
   ]
  },
  {
   "cell_type": "markdown",
   "metadata": {},
   "source": [
    "Print the first five rows of the dataset"
   ]
  },
  {
   "cell_type": "code",
   "execution_count": 7,
   "metadata": {},
   "outputs": [
    {
     "data": {
      "text/html": [
       "<div>\n",
       "<style scoped>\n",
       "    .dataframe tbody tr th:only-of-type {\n",
       "        vertical-align: middle;\n",
       "    }\n",
       "\n",
       "    .dataframe tbody tr th {\n",
       "        vertical-align: top;\n",
       "    }\n",
       "\n",
       "    .dataframe thead th {\n",
       "        text-align: right;\n",
       "    }\n",
       "</style>\n",
       "<table border=\"1\" class=\"dataframe\">\n",
       "  <thead>\n",
       "    <tr style=\"text-align: right;\">\n",
       "      <th></th>\n",
       "      <th>CRIM</th>\n",
       "      <th>ZN</th>\n",
       "      <th>INDUS</th>\n",
       "      <th>CHAS</th>\n",
       "      <th>NOX</th>\n",
       "      <th>RM</th>\n",
       "      <th>AGE</th>\n",
       "      <th>DIS</th>\n",
       "      <th>RAD</th>\n",
       "      <th>TAX</th>\n",
       "      <th>PTRATIO</th>\n",
       "      <th>B</th>\n",
       "      <th>LSTAT</th>\n",
       "    </tr>\n",
       "  </thead>\n",
       "  <tbody>\n",
       "    <tr>\n",
       "      <td>0</td>\n",
       "      <td>0.00632</td>\n",
       "      <td>18.0</td>\n",
       "      <td>2.31</td>\n",
       "      <td>0.0</td>\n",
       "      <td>0.538</td>\n",
       "      <td>6.575</td>\n",
       "      <td>65.2</td>\n",
       "      <td>4.0900</td>\n",
       "      <td>1.0</td>\n",
       "      <td>296.0</td>\n",
       "      <td>15.3</td>\n",
       "      <td>396.90</td>\n",
       "      <td>4.98</td>\n",
       "    </tr>\n",
       "    <tr>\n",
       "      <td>1</td>\n",
       "      <td>0.02731</td>\n",
       "      <td>0.0</td>\n",
       "      <td>7.07</td>\n",
       "      <td>0.0</td>\n",
       "      <td>0.469</td>\n",
       "      <td>6.421</td>\n",
       "      <td>78.9</td>\n",
       "      <td>4.9671</td>\n",
       "      <td>2.0</td>\n",
       "      <td>242.0</td>\n",
       "      <td>17.8</td>\n",
       "      <td>396.90</td>\n",
       "      <td>9.14</td>\n",
       "    </tr>\n",
       "    <tr>\n",
       "      <td>2</td>\n",
       "      <td>0.02729</td>\n",
       "      <td>0.0</td>\n",
       "      <td>7.07</td>\n",
       "      <td>0.0</td>\n",
       "      <td>0.469</td>\n",
       "      <td>7.185</td>\n",
       "      <td>61.1</td>\n",
       "      <td>4.9671</td>\n",
       "      <td>2.0</td>\n",
       "      <td>242.0</td>\n",
       "      <td>17.8</td>\n",
       "      <td>392.83</td>\n",
       "      <td>4.03</td>\n",
       "    </tr>\n",
       "    <tr>\n",
       "      <td>3</td>\n",
       "      <td>0.03237</td>\n",
       "      <td>0.0</td>\n",
       "      <td>2.18</td>\n",
       "      <td>0.0</td>\n",
       "      <td>0.458</td>\n",
       "      <td>6.998</td>\n",
       "      <td>45.8</td>\n",
       "      <td>6.0622</td>\n",
       "      <td>3.0</td>\n",
       "      <td>222.0</td>\n",
       "      <td>18.7</td>\n",
       "      <td>394.63</td>\n",
       "      <td>2.94</td>\n",
       "    </tr>\n",
       "    <tr>\n",
       "      <td>4</td>\n",
       "      <td>0.06905</td>\n",
       "      <td>0.0</td>\n",
       "      <td>2.18</td>\n",
       "      <td>0.0</td>\n",
       "      <td>0.458</td>\n",
       "      <td>7.147</td>\n",
       "      <td>54.2</td>\n",
       "      <td>6.0622</td>\n",
       "      <td>3.0</td>\n",
       "      <td>222.0</td>\n",
       "      <td>18.7</td>\n",
       "      <td>396.90</td>\n",
       "      <td>5.33</td>\n",
       "    </tr>\n",
       "  </tbody>\n",
       "</table>\n",
       "</div>"
      ],
      "text/plain": [
       "      CRIM    ZN  INDUS  CHAS    NOX     RM   AGE     DIS  RAD    TAX  \\\n",
       "0  0.00632  18.0   2.31   0.0  0.538  6.575  65.2  4.0900  1.0  296.0   \n",
       "1  0.02731   0.0   7.07   0.0  0.469  6.421  78.9  4.9671  2.0  242.0   \n",
       "2  0.02729   0.0   7.07   0.0  0.469  7.185  61.1  4.9671  2.0  242.0   \n",
       "3  0.03237   0.0   2.18   0.0  0.458  6.998  45.8  6.0622  3.0  222.0   \n",
       "4  0.06905   0.0   2.18   0.0  0.458  7.147  54.2  6.0622  3.0  222.0   \n",
       "\n",
       "   PTRATIO       B  LSTAT  \n",
       "0     15.3  396.90   4.98  \n",
       "1     17.8  396.90   9.14  \n",
       "2     17.8  392.83   4.03  \n",
       "3     18.7  394.63   2.94  \n",
       "4     18.7  396.90   5.33  "
      ]
     },
     "execution_count": 7,
     "metadata": {},
     "output_type": "execute_result"
    }
   ],
   "source": [
    "#Print the header of the Boston dataset\n",
    "boston = pd.DataFrame(boston_dataset.data, columns=boston_dataset.feature_names)\n",
    "boston.head()"
   ]
  },
  {
   "cell_type": "markdown",
   "metadata": {},
   "source": [
    "Give a description of what is contained in each column"
   ]
  },
  {
   "cell_type": "code",
   "execution_count": 8,
   "metadata": {},
   "outputs": [
    {
     "name": "stdout",
     "output_type": "stream",
     "text": [
      ".. _boston_dataset:\n",
      "\n",
      "Boston house prices dataset\n",
      "---------------------------\n",
      "\n",
      "**Data Set Characteristics:**  \n",
      "\n",
      "    :Number of Instances: 506 \n",
      "\n",
      "    :Number of Attributes: 13 numeric/categorical predictive. Median Value (attribute 14) is usually the target.\n",
      "\n",
      "    :Attribute Information (in order):\n",
      "        - CRIM     per capita crime rate by town\n",
      "        - ZN       proportion of residential land zoned for lots over 25,000 sq.ft.\n",
      "        - INDUS    proportion of non-retail business acres per town\n",
      "        - CHAS     Charles River dummy variable (= 1 if tract bounds river; 0 otherwise)\n",
      "        - NOX      nitric oxides concentration (parts per 10 million)\n",
      "        - RM       average number of rooms per dwelling\n",
      "        - AGE      proportion of owner-occupied units built prior to 1940\n",
      "        - DIS      weighted distances to five Boston employment centres\n",
      "        - RAD      index of accessibility to radial highways\n",
      "        - TAX      full-value property-tax rate per $10,000\n",
      "        - PTRATIO  pupil-teacher ratio by town\n",
      "        - B        1000(Bk - 0.63)^2 where Bk is the proportion of blacks by town\n",
      "        - LSTAT    % lower status of the population\n",
      "        - MEDV     Median value of owner-occupied homes in $1000's\n",
      "\n",
      "    :Missing Attribute Values: None\n",
      "\n",
      "    :Creator: Harrison, D. and Rubinfeld, D.L.\n",
      "\n",
      "This is a copy of UCI ML housing dataset.\n",
      "https://archive.ics.uci.edu/ml/machine-learning-databases/housing/\n",
      "\n",
      "\n",
      "This dataset was taken from the StatLib library which is maintained at Carnegie Mellon University.\n",
      "\n",
      "The Boston house-price data of Harrison, D. and Rubinfeld, D.L. 'Hedonic\n",
      "prices and the demand for clean air', J. Environ. Economics & Management,\n",
      "vol.5, 81-102, 1978.   Used in Belsley, Kuh & Welsch, 'Regression diagnostics\n",
      "...', Wiley, 1980.   N.B. Various transformations are used in the table on\n",
      "pages 244-261 of the latter.\n",
      "\n",
      "The Boston house-price data has been used in many machine learning papers that address regression\n",
      "problems.   \n",
      "     \n",
      ".. topic:: References\n",
      "\n",
      "   - Belsley, Kuh & Welsch, 'Regression diagnostics: Identifying Influential Data and Sources of Collinearity', Wiley, 1980. 244-261.\n",
      "   - Quinlan,R. (1993). Combining Instance-Based and Model-Based Learning. In Proceedings on the Tenth International Conference of Machine Learning, 236-243, University of Massachusetts, Amherst. Morgan Kaufmann.\n",
      "\n"
     ]
    }
   ],
   "source": [
    "print(boston_dataset.DESCR)"
   ]
  },
  {
   "cell_type": "markdown",
   "metadata": {},
   "source": [
    "Append the MEDV value from target to the dataset "
   ]
  },
  {
   "cell_type": "code",
   "execution_count": 9,
   "metadata": {},
   "outputs": [],
   "source": [
    "boston['MEDV'] = boston_dataset.target\n",
    "# Add MEDV value to the dataset"
   ]
  },
  {
   "cell_type": "code",
   "execution_count": 10,
   "metadata": {},
   "outputs": [
    {
     "name": "stdout",
     "output_type": "stream",
     "text": [
      "      CRIM    ZN  INDUS  CHAS    NOX     RM   AGE     DIS  RAD    TAX  \\\n",
      "0  0.00632  18.0   2.31   0.0  0.538  6.575  65.2  4.0900  1.0  296.0   \n",
      "1  0.02731   0.0   7.07   0.0  0.469  6.421  78.9  4.9671  2.0  242.0   \n",
      "2  0.02729   0.0   7.07   0.0  0.469  7.185  61.1  4.9671  2.0  242.0   \n",
      "3  0.03237   0.0   2.18   0.0  0.458  6.998  45.8  6.0622  3.0  222.0   \n",
      "4  0.06905   0.0   2.18   0.0  0.458  7.147  54.2  6.0622  3.0  222.0   \n",
      "\n",
      "   PTRATIO       B  LSTAT  MEDV  \n",
      "0     15.3  396.90   4.98  24.0  \n",
      "1     17.8  396.90   9.14  21.6  \n",
      "2     17.8  392.83   4.03  34.7  \n",
      "3     18.7  394.63   2.94  33.4  \n",
      "4     18.7  396.90   5.33  36.2  \n"
     ]
    }
   ],
   "source": [
    "print(boston.head())\n",
    "# Dataframe with price"
   ]
  },
  {
   "cell_type": "markdown",
   "metadata": {},
   "source": [
    "## Descriptive Statistics\n",
    "\n",
    "Calculate the minimum, maximum, mean, median, and standard deviation of 'MEDV', which is stored in target. Median value of owner-occupied homes in $1000's"
   ]
  },
  {
   "cell_type": "code",
   "execution_count": 11,
   "metadata": {},
   "outputs": [
    {
     "name": "stdout",
     "output_type": "stream",
     "text": [
      "The lowest house price is: 5.0\n",
      "The highest house price is: 50.0\n",
      "The average house price is: 22.532806324110698\n",
      "The median house price is: 21.2\n",
      "The standard deviation of houses prices is: 9.188011545278206\n"
     ]
    }
   ],
   "source": [
    "minimum_price = np.min(boston.MEDV) # Minimum price of the data\n",
    "maximum_price = np.max(boston.MEDV) # maximum price of the data\n",
    "mean_price = np.mean(boston.MEDV) # mean price of the data\n",
    "median_price = np.median(boston.MEDV) # median price of the data\n",
    "std_price = np.std(boston.MEDV) # standard deviation of the house prices\n",
    "\n",
    "\n",
    "# Show the calculated statistics\n",
    "print (\"The lowest house price is:\", minimum_price)\n",
    "print (\"The highest house price is:\", maximum_price)\n",
    "print (\"The average house price is:\", mean_price)\n",
    "print (\"The median house price is:\", median_price)\n",
    "print (\"The standard deviation of houses prices is:\", std_price)"
   ]
  },
  {
   "cell_type": "code",
   "execution_count": 12,
   "metadata": {},
   "outputs": [
    {
     "data": {
      "text/html": [
       "<div>\n",
       "<style scoped>\n",
       "    .dataframe tbody tr th:only-of-type {\n",
       "        vertical-align: middle;\n",
       "    }\n",
       "\n",
       "    .dataframe tbody tr th {\n",
       "        vertical-align: top;\n",
       "    }\n",
       "\n",
       "    .dataframe thead th {\n",
       "        text-align: right;\n",
       "    }\n",
       "</style>\n",
       "<table border=\"1\" class=\"dataframe\">\n",
       "  <thead>\n",
       "    <tr style=\"text-align: right;\">\n",
       "      <th></th>\n",
       "      <th>count</th>\n",
       "      <th>mean</th>\n",
       "      <th>std</th>\n",
       "      <th>min</th>\n",
       "      <th>25%</th>\n",
       "      <th>50%</th>\n",
       "      <th>75%</th>\n",
       "      <th>max</th>\n",
       "    </tr>\n",
       "  </thead>\n",
       "  <tbody>\n",
       "    <tr>\n",
       "      <td>CRIM</td>\n",
       "      <td>506.0</td>\n",
       "      <td>3.613524</td>\n",
       "      <td>8.601545</td>\n",
       "      <td>0.00632</td>\n",
       "      <td>0.082045</td>\n",
       "      <td>0.25651</td>\n",
       "      <td>3.677083</td>\n",
       "      <td>88.9762</td>\n",
       "    </tr>\n",
       "    <tr>\n",
       "      <td>ZN</td>\n",
       "      <td>506.0</td>\n",
       "      <td>11.363636</td>\n",
       "      <td>23.322453</td>\n",
       "      <td>0.00000</td>\n",
       "      <td>0.000000</td>\n",
       "      <td>0.00000</td>\n",
       "      <td>12.500000</td>\n",
       "      <td>100.0000</td>\n",
       "    </tr>\n",
       "    <tr>\n",
       "      <td>INDUS</td>\n",
       "      <td>506.0</td>\n",
       "      <td>11.136779</td>\n",
       "      <td>6.860353</td>\n",
       "      <td>0.46000</td>\n",
       "      <td>5.190000</td>\n",
       "      <td>9.69000</td>\n",
       "      <td>18.100000</td>\n",
       "      <td>27.7400</td>\n",
       "    </tr>\n",
       "    <tr>\n",
       "      <td>CHAS</td>\n",
       "      <td>506.0</td>\n",
       "      <td>0.069170</td>\n",
       "      <td>0.253994</td>\n",
       "      <td>0.00000</td>\n",
       "      <td>0.000000</td>\n",
       "      <td>0.00000</td>\n",
       "      <td>0.000000</td>\n",
       "      <td>1.0000</td>\n",
       "    </tr>\n",
       "    <tr>\n",
       "      <td>NOX</td>\n",
       "      <td>506.0</td>\n",
       "      <td>0.554695</td>\n",
       "      <td>0.115878</td>\n",
       "      <td>0.38500</td>\n",
       "      <td>0.449000</td>\n",
       "      <td>0.53800</td>\n",
       "      <td>0.624000</td>\n",
       "      <td>0.8710</td>\n",
       "    </tr>\n",
       "    <tr>\n",
       "      <td>RM</td>\n",
       "      <td>506.0</td>\n",
       "      <td>6.284634</td>\n",
       "      <td>0.702617</td>\n",
       "      <td>3.56100</td>\n",
       "      <td>5.885500</td>\n",
       "      <td>6.20850</td>\n",
       "      <td>6.623500</td>\n",
       "      <td>8.7800</td>\n",
       "    </tr>\n",
       "    <tr>\n",
       "      <td>AGE</td>\n",
       "      <td>506.0</td>\n",
       "      <td>68.574901</td>\n",
       "      <td>28.148861</td>\n",
       "      <td>2.90000</td>\n",
       "      <td>45.025000</td>\n",
       "      <td>77.50000</td>\n",
       "      <td>94.075000</td>\n",
       "      <td>100.0000</td>\n",
       "    </tr>\n",
       "    <tr>\n",
       "      <td>DIS</td>\n",
       "      <td>506.0</td>\n",
       "      <td>3.795043</td>\n",
       "      <td>2.105710</td>\n",
       "      <td>1.12960</td>\n",
       "      <td>2.100175</td>\n",
       "      <td>3.20745</td>\n",
       "      <td>5.188425</td>\n",
       "      <td>12.1265</td>\n",
       "    </tr>\n",
       "    <tr>\n",
       "      <td>RAD</td>\n",
       "      <td>506.0</td>\n",
       "      <td>9.549407</td>\n",
       "      <td>8.707259</td>\n",
       "      <td>1.00000</td>\n",
       "      <td>4.000000</td>\n",
       "      <td>5.00000</td>\n",
       "      <td>24.000000</td>\n",
       "      <td>24.0000</td>\n",
       "    </tr>\n",
       "    <tr>\n",
       "      <td>TAX</td>\n",
       "      <td>506.0</td>\n",
       "      <td>408.237154</td>\n",
       "      <td>168.537116</td>\n",
       "      <td>187.00000</td>\n",
       "      <td>279.000000</td>\n",
       "      <td>330.00000</td>\n",
       "      <td>666.000000</td>\n",
       "      <td>711.0000</td>\n",
       "    </tr>\n",
       "    <tr>\n",
       "      <td>PTRATIO</td>\n",
       "      <td>506.0</td>\n",
       "      <td>18.455534</td>\n",
       "      <td>2.164946</td>\n",
       "      <td>12.60000</td>\n",
       "      <td>17.400000</td>\n",
       "      <td>19.05000</td>\n",
       "      <td>20.200000</td>\n",
       "      <td>22.0000</td>\n",
       "    </tr>\n",
       "    <tr>\n",
       "      <td>B</td>\n",
       "      <td>506.0</td>\n",
       "      <td>356.674032</td>\n",
       "      <td>91.294864</td>\n",
       "      <td>0.32000</td>\n",
       "      <td>375.377500</td>\n",
       "      <td>391.44000</td>\n",
       "      <td>396.225000</td>\n",
       "      <td>396.9000</td>\n",
       "    </tr>\n",
       "    <tr>\n",
       "      <td>LSTAT</td>\n",
       "      <td>506.0</td>\n",
       "      <td>12.653063</td>\n",
       "      <td>7.141062</td>\n",
       "      <td>1.73000</td>\n",
       "      <td>6.950000</td>\n",
       "      <td>11.36000</td>\n",
       "      <td>16.955000</td>\n",
       "      <td>37.9700</td>\n",
       "    </tr>\n",
       "    <tr>\n",
       "      <td>MEDV</td>\n",
       "      <td>506.0</td>\n",
       "      <td>22.532806</td>\n",
       "      <td>9.197104</td>\n",
       "      <td>5.00000</td>\n",
       "      <td>17.025000</td>\n",
       "      <td>21.20000</td>\n",
       "      <td>25.000000</td>\n",
       "      <td>50.0000</td>\n",
       "    </tr>\n",
       "  </tbody>\n",
       "</table>\n",
       "</div>"
      ],
      "text/plain": [
       "         count        mean         std        min         25%        50%  \\\n",
       "CRIM     506.0    3.613524    8.601545    0.00632    0.082045    0.25651   \n",
       "ZN       506.0   11.363636   23.322453    0.00000    0.000000    0.00000   \n",
       "INDUS    506.0   11.136779    6.860353    0.46000    5.190000    9.69000   \n",
       "CHAS     506.0    0.069170    0.253994    0.00000    0.000000    0.00000   \n",
       "NOX      506.0    0.554695    0.115878    0.38500    0.449000    0.53800   \n",
       "RM       506.0    6.284634    0.702617    3.56100    5.885500    6.20850   \n",
       "AGE      506.0   68.574901   28.148861    2.90000   45.025000   77.50000   \n",
       "DIS      506.0    3.795043    2.105710    1.12960    2.100175    3.20745   \n",
       "RAD      506.0    9.549407    8.707259    1.00000    4.000000    5.00000   \n",
       "TAX      506.0  408.237154  168.537116  187.00000  279.000000  330.00000   \n",
       "PTRATIO  506.0   18.455534    2.164946   12.60000   17.400000   19.05000   \n",
       "B        506.0  356.674032   91.294864    0.32000  375.377500  391.44000   \n",
       "LSTAT    506.0   12.653063    7.141062    1.73000    6.950000   11.36000   \n",
       "MEDV     506.0   22.532806    9.197104    5.00000   17.025000   21.20000   \n",
       "\n",
       "                75%       max  \n",
       "CRIM       3.677083   88.9762  \n",
       "ZN        12.500000  100.0000  \n",
       "INDUS     18.100000   27.7400  \n",
       "CHAS       0.000000    1.0000  \n",
       "NOX        0.624000    0.8710  \n",
       "RM         6.623500    8.7800  \n",
       "AGE       94.075000  100.0000  \n",
       "DIS        5.188425   12.1265  \n",
       "RAD       24.000000   24.0000  \n",
       "TAX      666.000000  711.0000  \n",
       "PTRATIO   20.200000   22.0000  \n",
       "B        396.225000  396.9000  \n",
       "LSTAT     16.955000   37.9700  \n",
       "MEDV      25.000000   50.0000  "
      ]
     },
     "execution_count": 12,
     "metadata": {},
     "output_type": "execute_result"
    }
   ],
   "source": [
    "boston.describe().T"
   ]
  },
  {
   "cell_type": "markdown",
   "metadata": {},
   "source": [
    "### Histograms of variables \n",
    "\n",
    "Plot histograms of the variables within the dataset as a visual representation "
   ]
  },
  {
   "cell_type": "code",
   "execution_count": 13,
   "metadata": {},
   "outputs": [
    {
     "data": {
      "image/png": "[encoded data removed]",
      "text/plain": [
       "<Figure size 1440x1080 with 16 Axes>"
      ]
     },
     "metadata": {
      "needs_background": "light"
     },
     "output_type": "display_data"
    }
   ],
   "source": [
    "boston.hist(bins=50, figsize=(20,15))\n",
    "plt.show()"
   ]
  },
  {
   "cell_type": "markdown",
   "metadata": {},
   "source": [
    "Plot the house prices to show distribution of prices"
   ]
  },
  {
   "cell_type": "code",
   "execution_count": 14,
   "metadata": {},
   "outputs": [
    {
     "data": {
      "text/plain": [
       "<function matplotlib.pyplot.show(*args, **kw)>"
      ]
     },
     "execution_count": 14,
     "metadata": {},
     "output_type": "execute_result"
    },
    {
     "data": {
      "image/png": "[encoded data removed]",
      "text/plain": [
       "<Figure size 1440x720 with 1 Axes>"
      ]
     },
     "metadata": {
      "needs_background": "light"
     },
     "output_type": "display_data"
    }
   ],
   "source": [
    "# Histogram of house prices in 1000's\n",
    "plt.hist(boston.MEDV)\n",
    "plt.show"
   ]
  },
  {
   "cell_type": "markdown",
   "metadata": {},
   "source": [
    "### Distribution plot of house prices"
   ]
  },
  {
   "cell_type": "code",
   "execution_count": 15,
   "metadata": {},
   "outputs": [
    {
     "data": {
      "image/png": "[encoded data removed]",
      "text/plain": [
       "<Figure size 864x576 with 1 Axes>"
      ]
     },
     "metadata": {},
     "output_type": "display_data"
    }
   ],
   "source": [
    "sns.set(rc={'figure.figsize':(12,8)})\n",
    "sns.distplot(boston['MEDV'], bins=10)\n",
    "plt.show()"
   ]
  },
  {
   "cell_type": "markdown",
   "metadata": {},
   "source": [
    "## Correlation Heatmap\n",
    "Heatmap showing the correlation matrix meausing the linear relationships between the variables of the dataset"
   ]
  },
  {
   "cell_type": "code",
   "execution_count": 16,
   "metadata": {},
   "outputs": [
    {
     "data": {
      "text/plain": [
       "<matplotlib.axes._subplots.AxesSubplot at 0x1ec6f21c348>"
      ]
     },
     "execution_count": 16,
     "metadata": {},
     "output_type": "execute_result"
    },
    {
     "data": {
      "image/png": "[encoded data removed]",
      "text/plain": [
       "<Figure size 864x576 with 2 Axes>"
      ]
     },
     "metadata": {},
     "output_type": "display_data"
    }
   ],
   "source": [
    "correlation_matrix = boston.corr().round(2)\n",
    "# annot = True to print the values inside the square\n",
    "sns.heatmap(data=correlation_matrix, annot=True)"
   ]
  },
  {
   "cell_type": "markdown",
   "metadata": {},
   "source": [
    "## Observations\n",
    "The correlation coefficient runs on a scale of -1 to 1, 1 having stong correlation and -1 showing no correlation. MEDV shows a strong cprrelation to the RM value indicating a higher house price for a dwelling with a larger number of rooms. \n",
    "\n",
    "It shows negative correlation to LSTAT, lower status withing the population."
   ]
  },
  {
   "cell_type": "markdown",
   "metadata": {},
   "source": [
    "## Linear Regression\n",
    "\n",
    "### LSAT - Percentage of lower status of the population\n",
    "\n",
    "LSAT was selected for the linear regression module as it showed the stongest negative correlation with MEDV (Median value of owner-occupied homes in $1000s) in the correlation matrix. It shows that the house prices are negatively correlated linearly with the status within the population.\n",
    "\n",
    "More \"lower class\" areas have lower prices."
   ]
  },
  {
   "cell_type": "code",
   "execution_count": 17,
   "metadata": {},
   "outputs": [
    {
     "data": {
      "image/png": "[encoded data removed]",
      "text/plain": [
       "<Figure size 1440x360 with 1 Axes>"
      ]
     },
     "metadata": {},
     "output_type": "display_data"
    }
   ],
   "source": [
    "plt.figure(figsize=(20, 5))\n",
    "\n",
    "features = ['LSTAT']\n",
    "target = boston['MEDV']\n",
    "\n",
    "for i, col in enumerate(features):\n",
    "    plt.subplot(1, len(features) , i+1)\n",
    "    x = boston[col]\n",
    "    y = target\n",
    "    plt.scatter(x, y, marker='o')\n",
    "    plt.title(col)\n",
    "    plt.xlabel(col)\n",
    "    plt.ylabel('MEDV')"
   ]
  },
  {
   "cell_type": "markdown",
   "metadata": {},
   "source": [
    "## Positive Correlation\n"
   ]
  },
  {
   "cell_type": "markdown",
   "metadata": {},
   "source": [
    "### RM - Average number of rooms per dwelling\n",
    "\n",
    "There is strong positive correlation with with MEDV (Median value of owner-occupied homes in $1000s) in the correlation matrix. There is a higher MEDV for a higher RM as more rooms would imply more space, thereby costing more, taking all other factors constant."
   ]
  },
  {
   "cell_type": "code",
   "execution_count": 18,
   "metadata": {},
   "outputs": [
    {
     "data": {
      "image/png": "[encoded data removed]",
      "text/plain": [
       "<Figure size 1440x360 with 1 Axes>"
      ]
     },
     "metadata": {},
     "output_type": "display_data"
    }
   ],
   "source": [
    "plt.figure(figsize=(20, 5))\n",
    "\n",
    "features = ['RM']\n",
    "target = boston['MEDV']\n",
    "\n",
    "for i, col in enumerate(features):\n",
    "    plt.subplot(1, len(features) , i+1)\n",
    "    x = boston[col]\n",
    "    y = target\n",
    "    plt.scatter(x, y, marker='o')\n",
    "    plt.title(col)\n",
    "    plt.xlabel(col)\n",
    "    plt.ylabel('MEDV')"
   ]
  },
  {
   "cell_type": "markdown",
   "metadata": {},
   "source": [
    "### Pupil-teacher ratio by town\n",
    "There is a lower price in areas where there is a high student-to-teacher ratio due to a lower demand for houses in such areas. A high student teacher ratio results in less attention dedicated to each student and potentially impact their performance."
   ]
  },
  {
   "cell_type": "code",
   "execution_count": 19,
   "metadata": {},
   "outputs": [
    {
     "data": {
      "image/png": "[encoded data removed]",
      "text/plain": [
       "<Figure size 1440x360 with 1 Axes>"
      ]
     },
     "metadata": {},
     "output_type": "display_data"
    }
   ],
   "source": [
    "plt.figure(figsize=(20, 5))\n",
    "\n",
    "features = ['PTRATIO']\n",
    "target = boston['MEDV']\n",
    "\n",
    "for i, col in enumerate(features):\n",
    "    plt.subplot(1, len(features) , i+1)\n",
    "    x = boston[col]\n",
    "    y = target\n",
    "    plt.scatter(x, y, marker='o')\n",
    "    plt.title(col)\n",
    "    plt.xlabel(col)\n",
    "    plt.ylabel('MEDV')"
   ]
  },
  {
   "cell_type": "markdown",
   "metadata": {},
   "source": [
    "======================================================================================================================="
   ]
  },
  {
   "cell_type": "markdown",
   "metadata": {},
   "source": [
    "## Charles River Analysis\n",
    "\n",
    "The following section uses inferential statistics are used to analyse the difference in median house prices along the Charles river and houses which are not. The following tools have been used in the analysis:\n",
    "- Boxplots\n",
    "- Histogram\n",
    "- Anova \n",
    "- Paired T Test\n",
    "\n",
    "The CHAS variable in the dataset is the Charles River dummy variable. The variable is equal to one is the house is bound to the Charles River and zero if it is not. This section analyzes the data based on the CHAS value and its impact on the respective MEDV value."
   ]
  },
  {
   "cell_type": "code",
   "execution_count": 20,
   "metadata": {},
   "outputs": [],
   "source": [
    "# Split the Chas data into along the river and not along the river\n",
    "Along_The_River=boston.loc[boston['CHAS'] != 0]\n",
    "Not_Along_The_River=boston.loc[boston['CHAS'] != 1]"
   ]
  },
  {
   "cell_type": "code",
   "execution_count": 21,
   "metadata": {},
   "outputs": [
    {
     "data": {
      "text/plain": [
       "0      0.0\n",
       "1      0.0\n",
       "2      0.0\n",
       "3      0.0\n",
       "4      0.0\n",
       "      ... \n",
       "501    0.0\n",
       "502    0.0\n",
       "503    0.0\n",
       "504    0.0\n",
       "505    0.0\n",
       "Name: CHAS, Length: 506, dtype: float64"
      ]
     },
     "execution_count": 21,
     "metadata": {},
     "output_type": "execute_result"
    }
   ],
   "source": [
    "chas = boston.CHAS\n",
    "chas"
   ]
  },
  {
   "cell_type": "markdown",
   "metadata": {},
   "source": [
    "### Histogram\n",
    "Display a histogram to show how many houses in the dataset track the Charles River and how many do not."
   ]
  },
  {
   "cell_type": "code",
   "execution_count": 22,
   "metadata": {},
   "outputs": [
    {
     "data": {
      "text/plain": [
       "<function matplotlib.pyplot.show(*args, **kw)>"
      ]
     },
     "execution_count": 22,
     "metadata": {},
     "output_type": "execute_result"
    },
    {
     "data": {
      "image/png": "[encoded data removed]",
      "text/plain": [
       "<Figure size 864x576 with 1 Axes>"
      ]
     },
     "metadata": {},
     "output_type": "display_data"
    }
   ],
   "source": [
    "plt.hist(boston.CHAS)\n",
    "plt.show"
   ]
  },
  {
   "cell_type": "markdown",
   "metadata": {},
   "source": [
    "The histogram dispalys the number of houses houses which do not tract the river (0) and the number of house which do tract the river (1). A significantly higher number of houses do not tract the river. For futher analysis the median price for each category will be compared."
   ]
  },
  {
   "cell_type": "markdown",
   "metadata": {},
   "source": [
    "### Boxplots\n",
    "Visual comparison of the median values for the houses which tract the river verus those that do not."
   ]
  },
  {
   "cell_type": "code",
   "execution_count": 23,
   "metadata": {},
   "outputs": [
    {
     "data": {
      "image/png": "[encoded data removed]",
      "text/plain": [
       "<Figure size 864x576 with 1 Axes>"
      ]
     },
     "metadata": {},
     "output_type": "display_data"
    }
   ],
   "source": [
    "boston.boxplot(column='MEDV', by='CHAS')\n",
    "plt.show()"
   ]
  },
  {
   "cell_type": "markdown",
   "metadata": {},
   "source": [
    "The boxplot shows the median price for the houses which tract the river was higher in Boston at the time the dataset was generated."
   ]
  },
  {
   "cell_type": "markdown",
   "metadata": {},
   "source": [
    "## Anova\n",
    "\n",
    "Analysis of variance (ANOVA) is a collection of statistical models and their associated estimation procedures (such as the \"variation\" among and between groups) used to analyze the differences among group means in a sample. (https://en.wikipedia.org/wiki/Analysis_of_variance)\n"
   ]
  },
  {
   "cell_type": "code",
   "execution_count": 24,
   "metadata": {},
   "outputs": [
    {
     "name": "stdout",
     "output_type": "stream",
     "text": [
      "28.44\n",
      "11.64661078842866\n",
      "8.821982308779564\n",
      "8.821982308779564\n"
     ]
    }
   ],
   "source": [
    "atrm = np.mean(Along_The_River)                  # mean of Along_The_River\n",
    "atrs = np.std(Along_The_River)                   # std of Along_The_River\n",
    "\n",
    "natrm = np.mean(Not_Along_The_River)             # mean of Not_Along_The_River\n",
    "natrs = np.std(Not_Along_The_River)              # std of Not_Along_The_River\n",
    "\n",
    "print (atrm['MEDV'])\n",
    "print (atrs['MEDV'])\n",
    "print (natrs['MEDV'])\n",
    "print (natrs['MEDV'])"
   ]
  },
  {
   "cell_type": "code",
   "execution_count": 25,
   "metadata": {},
   "outputs": [
    {
     "data": {
      "image/png": "[encoded data removed]",
      "text/plain": [
       "<Figure size 864x576 with 1 Axes>"
      ]
     },
     "metadata": {},
     "output_type": "display_data"
    }
   ],
   "source": [
    "# x values for plotting.\n",
    "x = np.linspace(1.25, 2.25, 1000)\n",
    "\n",
    "# The probability density functions (PDFs) for the two populations.\n",
    "pdfA = stats.norm.pdf(x, atrm['MEDV'], atrs['MEDV'])\n",
    "pdfB = stats.norm.pdf(x, natrs['MEDV'], natrs['MEDV'])\n",
    "\n",
    "# Plot the population PDFs as shaded regions.\n",
    "plt.fill_between(x, pdfA, color='g', alpha=0.25, label=\"PDF Along_The_River\") # Fill the area between two horizontal curves.\n",
    "plt.fill_between(x, pdfB, color='b', alpha=0.25, label=\"PDF Not_Along_The_River\") # Fill the area between two horizontal curves.\n",
    "\n",
    "# Plot histograms of the two samples.\n",
    "plt.hist(Along_The_River['MEDV'], density=True, color='g', alpha=0.25, label=\"Along_The_River\")\n",
    "plt.hist(Not_Along_The_River['MEDV'], density=True, color='b', alpha=0.25, label=\"Not_Along_The_River\")\n",
    "\n",
    "# Display a legend.\n",
    "plt.legend()\n",
    "plt.show()"
   ]
  },
  {
   "cell_type": "markdown",
   "metadata": {},
   "source": [
    "The probability density function (PDF) is calculated to find probabilities associated with a continuous random variable. Therefore it is not an analytical tool which can be applied to the Charles River Data."
   ]
  },
  {
   "cell_type": "markdown",
   "metadata": {},
   "source": [
    "### Paired T Test\n",
    "\n",
    "https://docs.scipy.org/doc/scipy/reference/generated/scipy.stats.ttest_rel.html\n",
    "\n",
    "When performing an independent sample t-test we assume that there is a given difference between the means of two populations, usually a difference of zero.\n",
    "\n",
    "The t-statistic looks at the two samples to see how different they are. The hypothesised difference (usually zero) is a indication of the probability of seeing a t-statistic at least this extreme.\n",
    "\n",
    "If the t-statistic is too extreme then we cannot accept the null hypothesis. If there is a large p-value, (> 0.05 or 0.1), then we accept the null hypothesis. If the p-value is smaller than the threshold, e.g. 1%, 5% or 10%, then we reject the null hypothesis of equal averages.\n",
    "\n",
    "![Null](NullHypothesis.png)\n"
   ]
  },
  {
   "cell_type": "markdown",
   "metadata": {},
   "source": [
    "T Test of median prices along the river and those that are not along the river: "
   ]
  },
  {
   "cell_type": "code",
   "execution_count": 26,
   "metadata": {},
   "outputs": [
    {
     "data": {
      "text/plain": [
       "Ttest_indResult(statistic=3.996437466090509, pvalue=7.390623170519905e-05)"
      ]
     },
     "execution_count": 26,
     "metadata": {},
     "output_type": "execute_result"
    }
   ],
   "source": [
    "import scipy.stats as ss\n",
    "ss.ttest_ind(Along_The_River['MEDV'], Not_Along_The_River['MEDV'])"
   ]
  },
  {
   "cell_type": "markdown",
   "metadata": {},
   "source": [
    "As the p value is 0.0000739 the null hypothesis is rejected. "
   ]
  },
  {
   "cell_type": "markdown",
   "metadata": {},
   "source": [
    "T test of median prices and if they bound the Charles River"
   ]
  },
  {
   "cell_type": "code",
   "execution_count": 27,
   "metadata": {},
   "outputs": [
    {
     "data": {
      "text/plain": [
       "Ttest_indResult(statistic=54.9210289745203, pvalue=1.4651540072350996e-305)"
      ]
     },
     "execution_count": 27,
     "metadata": {},
     "output_type": "execute_result"
    }
   ],
   "source": [
    "ss.ttest_ind(boston['MEDV'], boston['CHAS'])"
   ]
  },
  {
   "cell_type": "markdown",
   "metadata": {},
   "source": [
    "Houses along the Charles River have a higher median price than those that are not along the river."
   ]
  },
  {
   "cell_type": "markdown",
   "metadata": {},
   "source": [
    "================================================================================================================="
   ]
  },
  {
   "cell_type": "markdown",
   "metadata": {},
   "source": [
    "## Train the dataset\n",
    "\n",
    "Training Dataset: The sample of data used to fit the model.\n",
    "The actual dataset that we use to train the model (weights and biases in the case of Neural Network). The model sees and learns from this data. (https://towardsdatascience.com/train-validation-and-test-sets-72cb40cba9e7)"
   ]
  },
  {
   "cell_type": "code",
   "execution_count": 28,
   "metadata": {},
   "outputs": [],
   "source": [
    "from sklearn.linear_model import LinearRegression # used to train the model on both the training and test sets."
   ]
  },
  {
   "cell_type": "markdown",
   "metadata": {},
   "source": [
    "Prepare the data for training the model"
   ]
  },
  {
   "cell_type": "code",
   "execution_count": 29,
   "metadata": {},
   "outputs": [],
   "source": [
    "X = pd.DataFrame(np.c_[boston['LSTAT'], boston['RM']], columns = ['LSTAT','RM'])\n",
    "Y = boston['MEDV']"
   ]
  },
  {
   "cell_type": "markdown",
   "metadata": {},
   "source": [
    "Split the data into training and testing sets. 80% of the samples are used to train the model and the remaining 20% are used to test "
   ]
  },
  {
   "cell_type": "code",
   "execution_count": 30,
   "metadata": {},
   "outputs": [
    {
     "name": "stdout",
     "output_type": "stream",
     "text": [
      "(404, 2)\n",
      "(102, 2)\n",
      "(404,)\n",
      "(102,)\n"
     ]
    }
   ],
   "source": [
    "from sklearn.model_selection import train_test_split # used to split the data\n",
    "\n",
    "X_train, X_test, Y_train, Y_test = train_test_split(X, Y, test_size = 0.2, random_state=5)\n",
    "print(X_train.shape)\n",
    "print(X_test.shape)\n",
    "print(Y_train.shape)\n",
    "print(Y_test.shape)"
   ]
  },
  {
   "cell_type": "markdown",
   "metadata": {},
   "source": [
    "Scikit-learn’s LinearRegression is used to train the model on both the training and test sets."
   ]
  },
  {
   "cell_type": "code",
   "execution_count": 31,
   "metadata": {},
   "outputs": [
    {
     "data": {
      "text/plain": [
       "LinearRegression(copy_X=True, fit_intercept=True, n_jobs=None, normalize=False)"
      ]
     },
     "execution_count": 31,
     "metadata": {},
     "output_type": "execute_result"
    }
   ],
   "source": [
    "from sklearn.linear_model import LinearRegression\n",
    "from sklearn.metrics import mean_squared_error\n",
    "\n",
    "lin_model = LinearRegression()\n",
    "lin_model.fit(X_train, Y_train)"
   ]
  },
  {
   "cell_type": "markdown",
   "metadata": {},
   "source": [
    "### Model Evaluation\n",
    "\n",
    "The model is evaluated using RMSE and R2-score."
   ]
  },
  {
   "cell_type": "code",
   "execution_count": 32,
   "metadata": {},
   "outputs": [
    {
     "name": "stdout",
     "output_type": "stream",
     "text": [
      "The model performance for training set\n",
      "--------------------------------------\n",
      "RMSE is 5.637129335071195\n",
      "R2 score is 0.6300745149331701\n",
      "\n",
      "\n",
      "The model performance for testing set\n",
      "--------------------------------------\n",
      "RMSE is 5.137400784702912\n",
      "R2 score is 0.6628996975186952\n"
     ]
    }
   ],
   "source": [
    "from sklearn.metrics import r2_score\n",
    "# model evaluation for training set\n",
    "y_train_predict = lin_model.predict(X_train)\n",
    "rmse = (np.sqrt(mean_squared_error(Y_train, y_train_predict)))\n",
    "r2 = r2_score(Y_train, y_train_predict)\n",
    "\n",
    "print(\"The model performance for training set\")\n",
    "print(\"--------------------------------------\")\n",
    "print('RMSE is {}'.format(rmse))\n",
    "print('R2 score is {}'.format(r2))\n",
    "print(\"\\n\")\n",
    "\n",
    "# model evaluation for testing set\n",
    "y_test_predict = lin_model.predict(X_test)\n",
    "rmse = (np.sqrt(mean_squared_error(Y_test, y_test_predict)))\n",
    "r2 = r2_score(Y_test, y_test_predict)\n",
    "\n",
    "print(\"The model performance for testing set\")\n",
    "print(\"--------------------------------------\")\n",
    "print('RMSE is {}'.format(rmse))\n",
    "print('R2 score is {}'.format(r2))"
   ]
  },
  {
   "cell_type": "markdown",
   "metadata": {},
   "source": [
    "### Scatter plot \n",
    "\n",
    "Scatter plot to visualize the difference between actual vs predicted valuesusing the X_test values"
   ]
  },
  {
   "cell_type": "code",
   "execution_count": 33,
   "metadata": {},
   "outputs": [
    {
     "data": {
      "text/plain": [
       "Text(0.5, 1.0, 'Actual price vs Predicted prices: $Y_i$ vs $\\\\hat{Y}_i$')"
      ]
     },
     "execution_count": 33,
     "metadata": {},
     "output_type": "execute_result"
    },
    {
     "data": {
      "image/png": "[encoded data removed]",
      "text/plain": [
       "<Figure size 864x576 with 1 Axes>"
      ]
     },
     "metadata": {},
     "output_type": "display_data"
    }
   ],
   "source": [
    "lm = LinearRegression()\n",
    "lm.fit(X_train, Y_train)\n",
    "\n",
    "Y_pred = lm.predict(X_test)\n",
    "\n",
    "plt.scatter(Y_test, Y_pred)\n",
    "plt.xlabel(\"Actual Price: $Y_i$\")\n",
    "plt.ylabel(\"Predicted price: $\\hat{Y}_i$\")\n",
    "plt.title(\"Actual price vs Predicted prices: $Y_i$ vs $\\hat{Y}_i$\")"
   ]
  },
  {
   "cell_type": "markdown",
   "metadata": {},
   "source": [
    "![Keras](https://miro.medium.com/max/1000/1*LkKz4wtZNBo5i-Vc8DWhTA.png)\n",
    "\n",
    "Create a neural network to predict the median house price based on the other variables in the dataset."
   ]
  },
  {
   "cell_type": "markdown",
   "metadata": {},
   "source": [
    "The features, 'RM', 'LSTAT', and 'PTRATIO', give us quantitative information about each data point. The target variable, 'MEDV', will be the variable we seek to predict. "
   ]
  },
  {
   "cell_type": "code",
   "execution_count": 34,
   "metadata": {},
   "outputs": [],
   "source": [
    "# inputs = [boston['RM'], boston['LSTAT'], boston['PTRATIO']]"
   ]
  },
  {
   "cell_type": "code",
   "execution_count": 35,
   "metadata": {},
   "outputs": [],
   "source": [
    "inputs = pd.DataFrame(boston, columns=['RM','LSTAT','PTRATIO'])"
   ]
  },
  {
   "cell_type": "code",
   "execution_count": 36,
   "metadata": {},
   "outputs": [
    {
     "data": {
      "text/html": [
       "<div>\n",
       "<style scoped>\n",
       "    .dataframe tbody tr th:only-of-type {\n",
       "        vertical-align: middle;\n",
       "    }\n",
       "\n",
       "    .dataframe tbody tr th {\n",
       "        vertical-align: top;\n",
       "    }\n",
       "\n",
       "    .dataframe thead th {\n",
       "        text-align: right;\n",
       "    }\n",
       "</style>\n",
       "<table border=\"1\" class=\"dataframe\">\n",
       "  <thead>\n",
       "    <tr style=\"text-align: right;\">\n",
       "      <th></th>\n",
       "      <th>RM</th>\n",
       "      <th>LSTAT</th>\n",
       "      <th>PTRATIO</th>\n",
       "    </tr>\n",
       "  </thead>\n",
       "  <tbody>\n",
       "    <tr>\n",
       "      <td>0</td>\n",
       "      <td>6.575</td>\n",
       "      <td>4.98</td>\n",
       "      <td>15.3</td>\n",
       "    </tr>\n",
       "    <tr>\n",
       "      <td>1</td>\n",
       "      <td>6.421</td>\n",
       "      <td>9.14</td>\n",
       "      <td>17.8</td>\n",
       "    </tr>\n",
       "    <tr>\n",
       "      <td>2</td>\n",
       "      <td>7.185</td>\n",
       "      <td>4.03</td>\n",
       "      <td>17.8</td>\n",
       "    </tr>\n",
       "    <tr>\n",
       "      <td>3</td>\n",
       "      <td>6.998</td>\n",
       "      <td>2.94</td>\n",
       "      <td>18.7</td>\n",
       "    </tr>\n",
       "    <tr>\n",
       "      <td>4</td>\n",
       "      <td>7.147</td>\n",
       "      <td>5.33</td>\n",
       "      <td>18.7</td>\n",
       "    </tr>\n",
       "    <tr>\n",
       "      <td>...</td>\n",
       "      <td>...</td>\n",
       "      <td>...</td>\n",
       "      <td>...</td>\n",
       "    </tr>\n",
       "    <tr>\n",
       "      <td>501</td>\n",
       "      <td>6.593</td>\n",
       "      <td>9.67</td>\n",
       "      <td>21.0</td>\n",
       "    </tr>\n",
       "    <tr>\n",
       "      <td>502</td>\n",
       "      <td>6.120</td>\n",
       "      <td>9.08</td>\n",
       "      <td>21.0</td>\n",
       "    </tr>\n",
       "    <tr>\n",
       "      <td>503</td>\n",
       "      <td>6.976</td>\n",
       "      <td>5.64</td>\n",
       "      <td>21.0</td>\n",
       "    </tr>\n",
       "    <tr>\n",
       "      <td>504</td>\n",
       "      <td>6.794</td>\n",
       "      <td>6.48</td>\n",
       "      <td>21.0</td>\n",
       "    </tr>\n",
       "    <tr>\n",
       "      <td>505</td>\n",
       "      <td>6.030</td>\n",
       "      <td>7.88</td>\n",
       "      <td>21.0</td>\n",
       "    </tr>\n",
       "  </tbody>\n",
       "</table>\n",
       "<p>506 rows × 3 columns</p>\n",
       "</div>"
      ],
      "text/plain": [
       "        RM  LSTAT  PTRATIO\n",
       "0    6.575   4.98     15.3\n",
       "1    6.421   9.14     17.8\n",
       "2    7.185   4.03     17.8\n",
       "3    6.998   2.94     18.7\n",
       "4    7.147   5.33     18.7\n",
       "..     ...    ...      ...\n",
       "501  6.593   9.67     21.0\n",
       "502  6.120   9.08     21.0\n",
       "503  6.976   5.64     21.0\n",
       "504  6.794   6.48     21.0\n",
       "505  6.030   7.88     21.0\n",
       "\n",
       "[506 rows x 3 columns]"
      ]
     },
     "execution_count": 36,
     "metadata": {},
     "output_type": "execute_result"
    }
   ],
   "source": [
    "inputs"
   ]
  },
  {
   "cell_type": "code",
   "execution_count": 37,
   "metadata": {},
   "outputs": [
    {
     "data": {
      "text/html": [
       "<div>\n",
       "<style scoped>\n",
       "    .dataframe tbody tr th:only-of-type {\n",
       "        vertical-align: middle;\n",
       "    }\n",
       "\n",
       "    .dataframe tbody tr th {\n",
       "        vertical-align: top;\n",
       "    }\n",
       "\n",
       "    .dataframe thead th {\n",
       "        text-align: right;\n",
       "    }\n",
       "</style>\n",
       "<table border=\"1\" class=\"dataframe\">\n",
       "  <thead>\n",
       "    <tr style=\"text-align: right;\">\n",
       "      <th></th>\n",
       "      <th>RM</th>\n",
       "      <th>LSTAT</th>\n",
       "      <th>PTRATIO</th>\n",
       "    </tr>\n",
       "  </thead>\n",
       "  <tbody>\n",
       "    <tr>\n",
       "      <td>0</td>\n",
       "      <td>0.413672</td>\n",
       "      <td>-1.075562</td>\n",
       "      <td>-1.459000</td>\n",
       "    </tr>\n",
       "    <tr>\n",
       "      <td>1</td>\n",
       "      <td>0.194274</td>\n",
       "      <td>-0.492439</td>\n",
       "      <td>-0.303094</td>\n",
       "    </tr>\n",
       "    <tr>\n",
       "      <td>2</td>\n",
       "      <td>1.282714</td>\n",
       "      <td>-1.208727</td>\n",
       "      <td>-0.303094</td>\n",
       "    </tr>\n",
       "    <tr>\n",
       "      <td>3</td>\n",
       "      <td>1.016303</td>\n",
       "      <td>-1.361517</td>\n",
       "      <td>0.113032</td>\n",
       "    </tr>\n",
       "    <tr>\n",
       "      <td>4</td>\n",
       "      <td>1.228577</td>\n",
       "      <td>-1.026501</td>\n",
       "      <td>0.113032</td>\n",
       "    </tr>\n",
       "    <tr>\n",
       "      <td>...</td>\n",
       "      <td>...</td>\n",
       "      <td>...</td>\n",
       "      <td>...</td>\n",
       "    </tr>\n",
       "    <tr>\n",
       "      <td>501</td>\n",
       "      <td>0.439316</td>\n",
       "      <td>-0.418147</td>\n",
       "      <td>1.176466</td>\n",
       "    </tr>\n",
       "    <tr>\n",
       "      <td>502</td>\n",
       "      <td>-0.234548</td>\n",
       "      <td>-0.500850</td>\n",
       "      <td>1.176466</td>\n",
       "    </tr>\n",
       "    <tr>\n",
       "      <td>503</td>\n",
       "      <td>0.984960</td>\n",
       "      <td>-0.983048</td>\n",
       "      <td>1.176466</td>\n",
       "    </tr>\n",
       "    <tr>\n",
       "      <td>504</td>\n",
       "      <td>0.725672</td>\n",
       "      <td>-0.865302</td>\n",
       "      <td>1.176466</td>\n",
       "    </tr>\n",
       "    <tr>\n",
       "      <td>505</td>\n",
       "      <td>-0.362767</td>\n",
       "      <td>-0.669058</td>\n",
       "      <td>1.176466</td>\n",
       "    </tr>\n",
       "  </tbody>\n",
       "</table>\n",
       "<p>506 rows × 3 columns</p>\n",
       "</div>"
      ],
      "text/plain": [
       "           RM     LSTAT   PTRATIO\n",
       "0    0.413672 -1.075562 -1.459000\n",
       "1    0.194274 -0.492439 -0.303094\n",
       "2    1.282714 -1.208727 -0.303094\n",
       "3    1.016303 -1.361517  0.113032\n",
       "4    1.228577 -1.026501  0.113032\n",
       "..        ...       ...       ...\n",
       "501  0.439316 -0.418147  1.176466\n",
       "502 -0.234548 -0.500850  1.176466\n",
       "503  0.984960 -0.983048  1.176466\n",
       "504  0.725672 -0.865302  1.176466\n",
       "505 -0.362767 -0.669058  1.176466\n",
       "\n",
       "[506 rows x 3 columns]"
      ]
     },
     "execution_count": 37,
     "metadata": {},
     "output_type": "execute_result"
    }
   ],
   "source": [
    "# https://scikit-learn.org/stable/modules/preprocessing.html#preprocessing\n",
    "xscale = pd.DataFrame(pre.scale(inputs), columns=inputs.columns)\n",
    "xscale"
   ]
  },
  {
   "cell_type": "code",
   "execution_count": 38,
   "metadata": {},
   "outputs": [
    {
     "data": {
      "text/plain": [
       "0      24.0\n",
       "1      21.6\n",
       "2      34.7\n",
       "3      33.4\n",
       "4      36.2\n",
       "       ... \n",
       "501    22.4\n",
       "502    20.6\n",
       "503    23.9\n",
       "504    22.0\n",
       "505    11.9\n",
       "Name: MEDV, Length: 506, dtype: float64"
      ]
     },
     "execution_count": 38,
     "metadata": {},
     "output_type": "execute_result"
    }
   ],
   "source": [
    "output = boston['MEDV'] #seek to output a house price value\n",
    "output"
   ]
  },
  {
   "cell_type": "code",
   "execution_count": 39,
   "metadata": {},
   "outputs": [],
   "source": [
    "# Encode the classes as above.\n",
    "## encoder = pre.LabelBinarizer()\n",
    "## encoder.fit(Y)\n",
    "## output = encoder.transform(Y)\n",
    "\n",
    "##output"
   ]
  },
  {
   "cell_type": "markdown",
   "metadata": {},
   "source": [
    "### Build Model"
   ]
  },
  {
   "cell_type": "code",
   "execution_count": 40,
   "metadata": {},
   "outputs": [],
   "source": [
    "from __future__ import absolute_import, division, print_function, unicode_literals\n",
    "\n",
    "import tensorflow as tf\n",
    "\n",
    "from tensorflow import keras as kr"
   ]
  },
  {
   "cell_type": "code",
   "execution_count": 41,
   "metadata": {},
   "outputs": [],
   "source": [
    "# Create a new neural network.\n",
    "m = kr.models.Sequential()"
   ]
  },
  {
   "cell_type": "code",
   "execution_count": 42,
   "metadata": {},
   "outputs": [],
   "source": [
    "# Add neurons.\n",
    "# m.add(kr.layers.Dense(1, input_dim=1, activation=\"linear\"))\n",
    "\n",
    "# Add a hidden layer with x neurons and an input layer with 3.\n",
    "m.add(kr.layers.Dense(units=10, input_dim=3, activation=\"linear\"))\n",
    "m.add(kr.layers.Dense(10, activation=\"linear\"))\n",
    "m.add(kr.layers.Dense(1, activation='linear'))"
   ]
  },
  {
   "cell_type": "code",
   "execution_count": 43,
   "metadata": {},
   "outputs": [],
   "source": [
    "# Compile the model.\n",
    "m.compile(loss=\"mean_squared_error\", optimizer=\"adam\")"
   ]
  },
  {
   "cell_type": "markdown",
   "metadata": {},
   "source": [
    "The number of epochs is a hyperparameter that defines the number times that the learning algorithm will work through the entire training dataset. (https://machinelearningmastery.com/difference-between-a-batch-and-an-epoch/)"
   ]
  },
  {
   "cell_type": "markdown",
   "metadata": {},
   "source": [
    "### Split"
   ]
  },
  {
   "cell_type": "code",
   "execution_count": 44,
   "metadata": {},
   "outputs": [],
   "source": [
    "# Split the inputs and outputs into training and test sets.\n",
    "inputs_train, inputs_test, output_train, output_test = mod.train_test_split(inputs, output, test_size=0.2)"
   ]
  },
  {
   "cell_type": "code",
   "execution_count": 45,
   "metadata": {},
   "outputs": [
    {
     "data": {
      "text/plain": [
       "RM          6.004\n",
       "LSTAT      17.100\n",
       "PTRATIO    15.200\n",
       "Name: 9, dtype: float64"
      ]
     },
     "execution_count": 45,
     "metadata": {},
     "output_type": "execute_result"
    }
   ],
   "source": [
    "inputs_test.iloc[0]"
   ]
  },
  {
   "cell_type": "code",
   "execution_count": 46,
   "metadata": {},
   "outputs": [
    {
     "name": "stderr",
     "output_type": "stream",
     "text": [
      "C:\\Users\\Frank\\Anaconda4\\lib\\site-packages\\ipykernel_launcher.py:1: FutureWarning: Method .as_matrix will be removed in a future version. Use .values instead.\n",
      "  \"\"\"Entry point for launching an IPython kernel.\n"
     ]
    },
    {
     "data": {
      "text/plain": [
       "array([[15.338542]], dtype=float32)"
      ]
     },
     "execution_count": 46,
     "metadata": {},
     "output_type": "execute_result"
    }
   ],
   "source": [
    "m.predict(inputs_test.as_matrix()[0:1])"
   ]
  },
  {
   "cell_type": "markdown",
   "metadata": {},
   "source": [
    "### Train"
   ]
  },
  {
   "cell_type": "code",
   "execution_count": 47,
   "metadata": {},
   "outputs": [
    {
     "name": "stdout",
     "output_type": "stream",
     "text": [
      "WARNING:tensorflow:Falling back from v2 loop because of error: Failed to find data adapter that can handle input: <class 'pandas.core.frame.DataFrame'>, <class 'NoneType'>\n",
      "Train on 404 samples\n",
      "Epoch 1/500\n",
      "404/404 [==============================] - 1s 3ms/sample - loss: 176.7497\n",
      "Epoch 2/500\n",
      "404/404 [==============================] - 0s 215us/sample - loss: 135.1196\n",
      "Epoch 3/500\n",
      "404/404 [==============================] - 0s 232us/sample - loss: 106.7532\n",
      "Epoch 4/500\n",
      "404/404 [==============================] - 0s 222us/sample - loss: 86.1504\n",
      "Epoch 5/500\n",
      "404/404 [==============================] - 0s 230us/sample - loss: 71.7826\n",
      "Epoch 6/500\n",
      "404/404 [==============================] - 0s 230us/sample - loss: 61.3098\n",
      "Epoch 7/500\n",
      "404/404 [==============================] - 0s 210us/sample - loss: 56.5329\n",
      "Epoch 8/500\n",
      "404/404 [==============================] - 0s 227us/sample - loss: 53.8130\n",
      "Epoch 9/500\n",
      "404/404 [==============================] - 0s 230us/sample - loss: 51.5096\n",
      "Epoch 10/500\n",
      "404/404 [==============================] - 0s 227us/sample - loss: 50.3193\n",
      "Epoch 11/500\n",
      "404/404 [==============================] - 0s 227us/sample - loss: 49.4749\n",
      "Epoch 12/500\n",
      "404/404 [==============================] - 0s 242us/sample - loss: 49.1190\n",
      "Epoch 13/500\n",
      "404/404 [==============================] - 0s 205us/sample - loss: 48.6791\n",
      "Epoch 14/500\n",
      "404/404 [==============================] - ETA: 0s - loss: 45.59 - 0s 220us/sample - loss: 48.0781\n",
      "Epoch 15/500\n",
      "404/404 [==============================] - 0s 220us/sample - loss: 47.7065\n",
      "Epoch 16/500\n",
      "404/404 [==============================] - 0s 220us/sample - loss: 47.0474\n",
      "Epoch 17/500\n",
      "404/404 [==============================] - 0s 235us/sample - loss: 46.3608\n",
      "Epoch 18/500\n",
      "404/404 [==============================] - 0s 230us/sample - loss: 46.3845\n",
      "Epoch 19/500\n",
      "404/404 [==============================] - 0s 215us/sample - loss: 45.3399\n",
      "Epoch 20/500\n",
      "404/404 [==============================] - 0s 220us/sample - loss: 45.1627\n",
      "Epoch 21/500\n",
      "404/404 [==============================] - 0s 220us/sample - loss: 44.4284\n",
      "Epoch 22/500\n",
      "404/404 [==============================] - 0s 247us/sample - loss: 43.8720\n",
      "Epoch 23/500\n",
      "404/404 [==============================] - 0s 245us/sample - loss: 43.4229\n",
      "Epoch 24/500\n",
      "404/404 [==============================] - 0s 237us/sample - loss: 42.9012\n",
      "Epoch 25/500\n",
      "404/404 [==============================] - 0s 227us/sample - loss: 42.1378\n",
      "Epoch 26/500\n",
      "404/404 [==============================] - 0s 217us/sample - loss: 41.5920\n",
      "Epoch 27/500\n",
      "404/404 [==============================] - 0s 237us/sample - loss: 41.4083\n",
      "Epoch 28/500\n",
      "404/404 [==============================] - 0s 240us/sample - loss: 40.8793\n",
      "Epoch 29/500\n",
      "404/404 [==============================] - 0s 195us/sample - loss: 40.1179\n",
      "Epoch 30/500\n",
      "404/404 [==============================] - 0s 195us/sample - loss: 39.5240\n",
      "Epoch 31/500\n",
      "404/404 [==============================] - 0s 198us/sample - loss: 39.0284\n",
      "Epoch 32/500\n",
      "404/404 [==============================] - 0s 183us/sample - loss: 38.4508\n",
      "Epoch 33/500\n",
      "404/404 [==============================] - 0s 185us/sample - loss: 37.9164\n",
      "Epoch 34/500\n",
      "404/404 [==============================] - 0s 180us/sample - loss: 37.3721\n",
      "Epoch 35/500\n",
      "404/404 [==============================] - 0s 188us/sample - loss: 36.7804\n",
      "Epoch 36/500\n",
      "404/404 [==============================] - 0s 200us/sample - loss: 36.7222\n",
      "Epoch 37/500\n",
      "404/404 [==============================] - 0s 208us/sample - loss: 36.1117\n",
      "Epoch 38/500\n",
      "404/404 [==============================] - 0s 225us/sample - loss: 35.7588\n",
      "Epoch 39/500\n",
      "404/404 [==============================] - 0s 230us/sample - loss: 35.1057\n",
      "Epoch 40/500\n",
      "404/404 [==============================] - 0s 220us/sample - loss: 34.8107\n",
      "Epoch 41/500\n",
      "404/404 [==============================] - 0s 215us/sample - loss: 34.0475\n",
      "Epoch 42/500\n",
      "404/404 [==============================] - 0s 237us/sample - loss: 33.7558\n",
      "Epoch 43/500\n",
      "404/404 [==============================] - 0s 302us/sample - loss: 33.5219\n",
      "Epoch 44/500\n",
      "404/404 [==============================] - 0s 237us/sample - loss: 33.1122\n",
      "Epoch 45/500\n",
      "404/404 [==============================] - 0s 208us/sample - loss: 32.5274\n",
      "Epoch 46/500\n",
      "404/404 [==============================] - 0s 220us/sample - loss: 32.9880\n",
      "Epoch 47/500\n",
      "404/404 [==============================] - 0s 222us/sample - loss: 32.1736\n",
      "Epoch 48/500\n",
      "404/404 [==============================] - 0s 227us/sample - loss: 31.5142\n",
      "Epoch 49/500\n",
      "404/404 [==============================] - 0s 222us/sample - loss: 31.3323\n",
      "Epoch 50/500\n",
      "404/404 [==============================] - 0s 217us/sample - loss: 31.4650\n",
      "Epoch 51/500\n",
      "404/404 [==============================] - 0s 210us/sample - loss: 31.3379\n",
      "Epoch 52/500\n",
      "404/404 [==============================] - 0s 215us/sample - loss: 30.4971\n",
      "Epoch 53/500\n",
      "404/404 [==============================] - 0s 205us/sample - loss: 31.6599\n",
      "Epoch 54/500\n",
      "404/404 [==============================] - 0s 230us/sample - loss: 30.2616\n",
      "Epoch 55/500\n",
      "404/404 [==============================] - 0s 213us/sample - loss: 30.5278\n",
      "Epoch 56/500\n",
      "404/404 [==============================] - 0s 222us/sample - loss: 29.8478\n",
      "Epoch 57/500\n",
      "404/404 [==============================] - 0s 227us/sample - loss: 30.0193\n",
      "Epoch 58/500\n",
      "404/404 [==============================] - 0s 220us/sample - loss: 30.5341\n",
      "Epoch 59/500\n",
      "404/404 [==============================] - 0s 230us/sample - loss: 29.9188\n",
      "Epoch 60/500\n",
      "404/404 [==============================] - 0s 220us/sample - loss: 29.6543\n",
      "Epoch 61/500\n",
      "404/404 [==============================] - ETA: 0s - loss: 29.53 - 0s 215us/sample - loss: 29.2078\n",
      "Epoch 62/500\n",
      "404/404 [==============================] - 0s 215us/sample - loss: 29.5984\n",
      "Epoch 63/500\n",
      "404/404 [==============================] - 0s 215us/sample - loss: 29.1834\n",
      "Epoch 64/500\n",
      "404/404 [==============================] - 0s 217us/sample - loss: 29.0487\n",
      "Epoch 65/500\n",
      "404/404 [==============================] - 0s 225us/sample - loss: 28.9466\n",
      "Epoch 66/500\n",
      "404/404 [==============================] - 0s 208us/sample - loss: 29.6723\n",
      "Epoch 67/500\n",
      "404/404 [==============================] - 0s 217us/sample - loss: 28.8715\n",
      "Epoch 68/500\n",
      "404/404 [==============================] - 0s 210us/sample - loss: 29.1065\n",
      "Epoch 69/500\n",
      "404/404 [==============================] - 0s 215us/sample - loss: 29.1468\n",
      "Epoch 70/500\n",
      "404/404 [==============================] - 0s 222us/sample - loss: 28.6316\n",
      "Epoch 71/500\n",
      "404/404 [==============================] - 0s 220us/sample - loss: 29.8204\n",
      "Epoch 72/500\n",
      "404/404 [==============================] - 0s 208us/sample - loss: 28.7340\n",
      "Epoch 73/500\n",
      "404/404 [==============================] - 0s 213us/sample - loss: 30.1472\n",
      "Epoch 74/500\n",
      "404/404 [==============================] - 0s 222us/sample - loss: 29.9295\n",
      "Epoch 75/500\n",
      "404/404 [==============================] - 0s 210us/sample - loss: 28.7377\n",
      "Epoch 76/500\n",
      "404/404 [==============================] - 0s 225us/sample - loss: 28.6533\n",
      "Epoch 77/500\n",
      "404/404 [==============================] - 0s 213us/sample - loss: 28.5196\n",
      "Epoch 78/500\n",
      "404/404 [==============================] - 0s 217us/sample - loss: 28.9708\n",
      "Epoch 79/500\n",
      "404/404 [==============================] - 0s 220us/sample - loss: 29.4829\n",
      "Epoch 80/500\n",
      "404/404 [==============================] - 0s 217us/sample - loss: 29.2166\n",
      "Epoch 81/500\n",
      "404/404 [==============================] - 0s 220us/sample - loss: 28.4976\n",
      "Epoch 82/500\n",
      "404/404 [==============================] - 0s 240us/sample - loss: 28.8854 - loss: 30.33\n",
      "Epoch 83/500\n",
      "404/404 [==============================] - 0s 225us/sample - loss: 28.9587\n",
      "Epoch 84/500\n",
      "404/404 [==============================] - 0s 287us/sample - loss: 28.9475\n",
      "Epoch 85/500\n",
      "404/404 [==============================] - 0s 213us/sample - loss: 29.2179\n",
      "Epoch 86/500\n",
      "404/404 [==============================] - 0s 235us/sample - loss: 28.3375\n",
      "Epoch 87/500\n",
      "404/404 [==============================] - 0s 205us/sample - loss: 28.9038\n",
      "Epoch 88/500\n",
      "404/404 [==============================] - 0s 215us/sample - loss: 28.3884\n",
      "Epoch 89/500\n",
      "404/404 [==============================] - 0s 215us/sample - loss: 28.6564\n",
      "Epoch 90/500\n",
      "404/404 [==============================] - 0s 220us/sample - loss: 28.6647\n",
      "Epoch 91/500\n"
     ]
    },
    {
     "name": "stdout",
     "output_type": "stream",
     "text": [
      "404/404 [==============================] - 0s 220us/sample - loss: 28.6590\n",
      "Epoch 92/500\n",
      "404/404 [==============================] - 0s 225us/sample - loss: 30.2572\n",
      "Epoch 93/500\n",
      "404/404 [==============================] - 0s 227us/sample - loss: 28.9727\n",
      "Epoch 94/500\n",
      "404/404 [==============================] - 0s 205us/sample - loss: 28.9105\n",
      "Epoch 95/500\n",
      "404/404 [==============================] - 0s 217us/sample - loss: 28.6243\n",
      "Epoch 96/500\n",
      "404/404 [==============================] - 0s 213us/sample - loss: 28.5018\n",
      "Epoch 97/500\n",
      "404/404 [==============================] - 0s 230us/sample - loss: 29.2549\n",
      "Epoch 98/500\n",
      "404/404 [==============================] - 0s 213us/sample - loss: 29.6271\n",
      "Epoch 99/500\n",
      "404/404 [==============================] - 0s 208us/sample - loss: 29.3489\n",
      "Epoch 100/500\n",
      "404/404 [==============================] - 0s 220us/sample - loss: 28.2605 - loss: 22.52\n",
      "Epoch 101/500\n",
      "404/404 [==============================] - 0s 208us/sample - loss: 28.3678 - loss: 30.81\n",
      "Epoch 102/500\n",
      "404/404 [==============================] - 0s 232us/sample - loss: 28.4108\n",
      "Epoch 103/500\n",
      "404/404 [==============================] - 0s 225us/sample - loss: 28.8216\n",
      "Epoch 104/500\n",
      "404/404 [==============================] - 0s 217us/sample - loss: 28.5812\n",
      "Epoch 105/500\n",
      "404/404 [==============================] - 0s 210us/sample - loss: 28.5231\n",
      "Epoch 106/500\n",
      "404/404 [==============================] - 0s 222us/sample - loss: 28.3937\n",
      "Epoch 107/500\n",
      "404/404 [==============================] - 0s 215us/sample - loss: 28.6740\n",
      "Epoch 108/500\n",
      "404/404 [==============================] - 0s 203us/sample - loss: 28.6587\n",
      "Epoch 109/500\n",
      "404/404 [==============================] - 0s 222us/sample - loss: 28.3893\n",
      "Epoch 110/500\n",
      "404/404 [==============================] - 0s 225us/sample - loss: 29.3293\n",
      "Epoch 111/500\n",
      "404/404 [==============================] - 0s 213us/sample - loss: 29.4502\n",
      "Epoch 112/500\n",
      "404/404 [==============================] - 0s 237us/sample - loss: 28.6961\n",
      "Epoch 113/500\n",
      "404/404 [==============================] - 0s 213us/sample - loss: 29.0615\n",
      "Epoch 114/500\n",
      "404/404 [==============================] - 0s 232us/sample - loss: 28.5802\n",
      "Epoch 115/500\n",
      "404/404 [==============================] - 0s 195us/sample - loss: 28.5759\n",
      "Epoch 116/500\n",
      "404/404 [==============================] - 0s 200us/sample - loss: 28.6966\n",
      "Epoch 117/500\n",
      "404/404 [==============================] - 0s 240us/sample - loss: 28.4108\n",
      "Epoch 118/500\n",
      "404/404 [==============================] - 0s 215us/sample - loss: 29.3634\n",
      "Epoch 119/500\n",
      "404/404 [==============================] - 0s 195us/sample - loss: 28.7346\n",
      "Epoch 120/500\n",
      "404/404 [==============================] - 0s 222us/sample - loss: 29.8757\n",
      "Epoch 121/500\n",
      "404/404 [==============================] - 0s 215us/sample - loss: 28.4590\n",
      "Epoch 122/500\n",
      "404/404 [==============================] - 0s 215us/sample - loss: 28.6899\n",
      "Epoch 123/500\n",
      "404/404 [==============================] - 0s 230us/sample - loss: 28.8430 - loss: 28.97\n",
      "Epoch 124/500\n",
      "404/404 [==============================] - 0s 213us/sample - loss: 28.8669\n",
      "Epoch 125/500\n",
      "404/404 [==============================] - 0s 210us/sample - loss: 28.2978\n",
      "Epoch 126/500\n",
      "404/404 [==============================] - 0s 203us/sample - loss: 28.4756\n",
      "Epoch 127/500\n",
      "404/404 [==============================] - 0s 205us/sample - loss: 28.7501\n",
      "Epoch 128/500\n",
      "404/404 [==============================] - 0s 210us/sample - loss: 28.5706\n",
      "Epoch 129/500\n",
      "404/404 [==============================] - 0s 215us/sample - loss: 28.6151\n",
      "Epoch 130/500\n",
      "404/404 [==============================] - 0s 215us/sample - loss: 28.9557\n",
      "Epoch 131/500\n",
      "404/404 [==============================] - 0s 217us/sample - loss: 28.5531\n",
      "Epoch 132/500\n",
      "404/404 [==============================] - 0s 213us/sample - loss: 28.5551\n",
      "Epoch 133/500\n",
      "404/404 [==============================] - 0s 208us/sample - loss: 28.3969\n",
      "Epoch 134/500\n",
      "404/404 [==============================] - 0s 217us/sample - loss: 28.6354\n",
      "Epoch 135/500\n",
      "404/404 [==============================] - ETA: 0s - loss: 25.68 - 0s 215us/sample - loss: 28.5101\n",
      "Epoch 136/500\n",
      "404/404 [==============================] - 0s 208us/sample - loss: 29.5788\n",
      "Epoch 137/500\n",
      "404/404 [==============================] - 0s 227us/sample - loss: 28.6157\n",
      "Epoch 138/500\n",
      "404/404 [==============================] - 0s 235us/sample - loss: 28.9354\n",
      "Epoch 139/500\n",
      "404/404 [==============================] - 0s 240us/sample - loss: 28.2755\n",
      "Epoch 140/500\n",
      "404/404 [==============================] - 0s 242us/sample - loss: 28.4862\n",
      "Epoch 141/500\n",
      "404/404 [==============================] - 0s 242us/sample - loss: 29.3429\n",
      "Epoch 142/500\n",
      "404/404 [==============================] - 0s 230us/sample - loss: 28.3803\n",
      "Epoch 143/500\n",
      "404/404 [==============================] - 0s 227us/sample - loss: 28.4508\n",
      "Epoch 144/500\n",
      "404/404 [==============================] - 0s 225us/sample - loss: 28.5460\n",
      "Epoch 145/500\n",
      "404/404 [==============================] - 0s 222us/sample - loss: 28.3758\n",
      "Epoch 146/500\n",
      "404/404 [==============================] - 0s 240us/sample - loss: 28.3957\n",
      "Epoch 147/500\n",
      "404/404 [==============================] - 0s 235us/sample - loss: 28.6045\n",
      "Epoch 148/500\n",
      "404/404 [==============================] - 0s 240us/sample - loss: 28.3059\n",
      "Epoch 149/500\n",
      "404/404 [==============================] - 0s 230us/sample - loss: 29.6156\n",
      "Epoch 150/500\n",
      "404/404 [==============================] - 0s 222us/sample - loss: 28.4426\n",
      "Epoch 151/500\n",
      "404/404 [==============================] - 0s 230us/sample - loss: 28.4546\n",
      "Epoch 152/500\n",
      "404/404 [==============================] - 0s 235us/sample - loss: 28.9710\n",
      "Epoch 153/500\n",
      "404/404 [==============================] - 0s 235us/sample - loss: 28.3017\n",
      "Epoch 154/500\n",
      "404/404 [==============================] - 0s 225us/sample - loss: 28.1756\n",
      "Epoch 155/500\n",
      "404/404 [==============================] - 0s 217us/sample - loss: 29.1633\n",
      "Epoch 156/500\n",
      "404/404 [==============================] - 0s 242us/sample - loss: 28.3819\n",
      "Epoch 157/500\n",
      "404/404 [==============================] - 0s 272us/sample - loss: 28.7196\n",
      "Epoch 158/500\n",
      "404/404 [==============================] - 0s 237us/sample - loss: 28.6023\n",
      "Epoch 159/500\n",
      "404/404 [==============================] - 0s 222us/sample - loss: 28.8883\n",
      "Epoch 160/500\n",
      "404/404 [==============================] - 0s 247us/sample - loss: 28.6484\n",
      "Epoch 161/500\n",
      "404/404 [==============================] - 0s 242us/sample - loss: 29.6104\n",
      "Epoch 162/500\n",
      "404/404 [==============================] - 0s 220us/sample - loss: 28.4352\n",
      "Epoch 163/500\n",
      "404/404 [==============================] - 0s 220us/sample - loss: 28.3623\n",
      "Epoch 164/500\n",
      "404/404 [==============================] - 0s 235us/sample - loss: 28.3898\n",
      "Epoch 165/500\n",
      "404/404 [==============================] - 0s 215us/sample - loss: 28.5829\n",
      "Epoch 166/500\n",
      "404/404 [==============================] - 0s 232us/sample - loss: 28.5424\n",
      "Epoch 167/500\n",
      "404/404 [==============================] - 0s 222us/sample - loss: 31.4456\n",
      "Epoch 168/500\n",
      "404/404 [==============================] - 0s 222us/sample - loss: 28.7349\n",
      "Epoch 169/500\n",
      "404/404 [==============================] - 0s 215us/sample - loss: 29.8748\n",
      "Epoch 170/500\n",
      "404/404 [==============================] - 0s 225us/sample - loss: 28.9049\n",
      "Epoch 171/500\n",
      "404/404 [==============================] - 0s 242us/sample - loss: 28.5745\n",
      "Epoch 172/500\n",
      "404/404 [==============================] - 0s 222us/sample - loss: 28.4185\n",
      "Epoch 173/500\n",
      "404/404 [==============================] - 0s 227us/sample - loss: 28.6029\n",
      "Epoch 174/500\n",
      "404/404 [==============================] - 0s 225us/sample - loss: 29.2303\n",
      "Epoch 175/500\n",
      "404/404 [==============================] - 0s 222us/sample - loss: 28.3443\n",
      "Epoch 176/500\n",
      "404/404 [==============================] - 0s 220us/sample - loss: 28.3713\n",
      "Epoch 177/500\n",
      "404/404 [==============================] - 0s 230us/sample - loss: 28.7384\n",
      "Epoch 178/500\n",
      "404/404 [==============================] - 0s 210us/sample - loss: 28.2879\n",
      "Epoch 179/500\n",
      "404/404 [==============================] - 0s 220us/sample - loss: 28.3350\n",
      "Epoch 180/500\n",
      "404/404 [==============================] - 0s 242us/sample - loss: 28.4217\n",
      "Epoch 181/500\n",
      "404/404 [==============================] - 0s 208us/sample - loss: 28.5831\n",
      "Epoch 182/500\n"
     ]
    },
    {
     "name": "stdout",
     "output_type": "stream",
     "text": [
      "404/404 [==============================] - 0s 215us/sample - loss: 28.3098\n",
      "Epoch 183/500\n",
      "404/404 [==============================] - 0s 230us/sample - loss: 28.6108\n",
      "Epoch 184/500\n",
      "404/404 [==============================] - 0s 225us/sample - loss: 28.6812\n",
      "Epoch 185/500\n",
      "404/404 [==============================] - 0s 230us/sample - loss: 29.3177\n",
      "Epoch 186/500\n",
      "404/404 [==============================] - 0s 232us/sample - loss: 28.5837\n",
      "Epoch 187/500\n",
      "404/404 [==============================] - 0s 240us/sample - loss: 28.3023\n",
      "Epoch 188/500\n",
      "404/404 [==============================] - 0s 235us/sample - loss: 28.3201\n",
      "Epoch 189/500\n",
      "404/404 [==============================] - 0s 220us/sample - loss: 28.4054\n",
      "Epoch 190/500\n",
      "404/404 [==============================] - 0s 237us/sample - loss: 28.5649\n",
      "Epoch 191/500\n",
      "404/404 [==============================] - 0s 240us/sample - loss: 28.3530\n",
      "Epoch 192/500\n",
      "404/404 [==============================] - 0s 215us/sample - loss: 28.9473\n",
      "Epoch 193/500\n",
      "404/404 [==============================] - 0s 222us/sample - loss: 27.9698\n",
      "Epoch 194/500\n",
      "404/404 [==============================] - 0s 222us/sample - loss: 29.1622\n",
      "Epoch 195/500\n",
      "404/404 [==============================] - 0s 237us/sample - loss: 28.5537\n",
      "Epoch 196/500\n",
      "404/404 [==============================] - 0s 232us/sample - loss: 28.6015\n",
      "Epoch 197/500\n",
      "404/404 [==============================] - 0s 220us/sample - loss: 28.4574\n",
      "Epoch 198/500\n",
      "404/404 [==============================] - 0s 227us/sample - loss: 28.2936\n",
      "Epoch 199/500\n",
      "404/404 [==============================] - 0s 220us/sample - loss: 28.3671\n",
      "Epoch 200/500\n",
      "404/404 [==============================] - 0s 222us/sample - loss: 28.8576\n",
      "Epoch 201/500\n",
      "404/404 [==============================] - 0s 232us/sample - loss: 28.6406\n",
      "Epoch 202/500\n",
      "404/404 [==============================] - 0s 205us/sample - loss: 28.5350\n",
      "Epoch 203/500\n",
      "404/404 [==============================] - 0s 257us/sample - loss: 28.5657\n",
      "Epoch 204/500\n",
      "404/404 [==============================] - 0s 215us/sample - loss: 28.0680\n",
      "Epoch 205/500\n",
      "404/404 [==============================] - 0s 235us/sample - loss: 28.3493\n",
      "Epoch 206/500\n",
      "404/404 [==============================] - 0s 264us/sample - loss: 28.8792\n",
      "Epoch 207/500\n",
      "404/404 [==============================] - 0s 215us/sample - loss: 28.5881\n",
      "Epoch 208/500\n",
      "404/404 [==============================] - 0s 227us/sample - loss: 28.4336\n",
      "Epoch 209/500\n",
      "404/404 [==============================] - 0s 237us/sample - loss: 28.2494\n",
      "Epoch 210/500\n",
      "404/404 [==============================] - 0s 250us/sample - loss: 28.2637\n",
      "Epoch 211/500\n",
      "404/404 [==============================] - 0s 250us/sample - loss: 28.6863\n",
      "Epoch 212/500\n",
      "404/404 [==============================] - 0s 225us/sample - loss: 28.9466\n",
      "Epoch 213/500\n",
      "404/404 [==============================] - 0s 222us/sample - loss: 28.1893\n",
      "Epoch 214/500\n",
      "404/404 [==============================] - 0s 217us/sample - loss: 28.3622\n",
      "Epoch 215/500\n",
      "404/404 [==============================] - 0s 220us/sample - loss: 28.8949\n",
      "Epoch 216/500\n",
      "404/404 [==============================] - 0s 279us/sample - loss: 29.0777\n",
      "Epoch 217/500\n",
      "404/404 [==============================] - 0s 252us/sample - loss: 28.4389\n",
      "Epoch 218/500\n",
      "404/404 [==============================] - 0s 217us/sample - loss: 28.4827\n",
      "Epoch 219/500\n",
      "404/404 [==============================] - 0s 237us/sample - loss: 28.3475\n",
      "Epoch 220/500\n",
      "404/404 [==============================] - 0s 210us/sample - loss: 28.8103\n",
      "Epoch 221/500\n",
      "404/404 [==============================] - 0s 242us/sample - loss: 29.5513\n",
      "Epoch 222/500\n",
      "404/404 [==============================] - 0s 215us/sample - loss: 29.9049\n",
      "Epoch 223/500\n",
      "404/404 [==============================] - 0s 230us/sample - loss: 28.6807\n",
      "Epoch 224/500\n",
      "404/404 [==============================] - 0s 213us/sample - loss: 29.3099\n",
      "Epoch 225/500\n",
      "404/404 [==============================] - 0s 205us/sample - loss: 28.8828\n",
      "Epoch 226/500\n",
      "404/404 [==============================] - 0s 217us/sample - loss: 28.4859\n",
      "Epoch 227/500\n",
      "404/404 [==============================] - 0s 213us/sample - loss: 28.6792\n",
      "Epoch 228/500\n",
      "404/404 [==============================] - 0s 215us/sample - loss: 28.7364\n",
      "Epoch 229/500\n",
      "404/404 [==============================] - 0s 208us/sample - loss: 28.2112\n",
      "Epoch 230/500\n",
      "404/404 [==============================] - 0s 208us/sample - loss: 28.2208\n",
      "Epoch 231/500\n",
      "404/404 [==============================] - 0s 217us/sample - loss: 28.3970\n",
      "Epoch 232/500\n",
      "404/404 [==============================] - 0s 213us/sample - loss: 28.4591\n",
      "Epoch 233/500\n",
      "404/404 [==============================] - 0s 208us/sample - loss: 28.7861\n",
      "Epoch 234/500\n",
      "404/404 [==============================] - 0s 213us/sample - loss: 28.1972\n",
      "Epoch 235/500\n",
      "404/404 [==============================] - 0s 210us/sample - loss: 28.1829\n",
      "Epoch 236/500\n",
      "404/404 [==============================] - 0s 227us/sample - loss: 29.2209\n",
      "Epoch 237/500\n",
      "404/404 [==============================] - 0s 208us/sample - loss: 28.7347\n",
      "Epoch 238/500\n",
      "404/404 [==============================] - 0s 237us/sample - loss: 28.1691\n",
      "Epoch 239/500\n",
      "404/404 [==============================] - 0s 220us/sample - loss: 28.2645\n",
      "Epoch 240/500\n",
      "404/404 [==============================] - 0s 242us/sample - loss: 28.2931\n",
      "Epoch 241/500\n",
      "404/404 [==============================] - 0s 250us/sample - loss: 28.7336\n",
      "Epoch 242/500\n",
      "404/404 [==============================] - 0s 232us/sample - loss: 28.5525\n",
      "Epoch 243/500\n",
      "404/404 [==============================] - 0s 220us/sample - loss: 28.1752\n",
      "Epoch 244/500\n",
      "404/404 [==============================] - 0s 215us/sample - loss: 28.2314\n",
      "Epoch 245/500\n",
      "404/404 [==============================] - 0s 222us/sample - loss: 28.4372\n",
      "Epoch 246/500\n",
      "404/404 [==============================] - 0s 215us/sample - loss: 28.2371\n",
      "Epoch 247/500\n",
      "404/404 [==============================] - 0s 208us/sample - loss: 28.2221\n",
      "Epoch 248/500\n",
      "404/404 [==============================] - 0s 225us/sample - loss: 28.3281\n",
      "Epoch 249/500\n",
      "404/404 [==============================] - 0s 247us/sample - loss: 28.6679\n",
      "Epoch 250/500\n",
      "404/404 [==============================] - 0s 227us/sample - loss: 28.2334\n",
      "Epoch 251/500\n",
      "404/404 [==============================] - 0s 220us/sample - loss: 28.6324\n",
      "Epoch 252/500\n",
      "404/404 [==============================] - 0s 215us/sample - loss: 28.1677\n",
      "Epoch 253/500\n",
      "404/404 [==============================] - 0s 240us/sample - loss: 29.4765\n",
      "Epoch 254/500\n",
      "404/404 [==============================] - 0s 227us/sample - loss: 28.9982\n",
      "Epoch 255/500\n",
      "404/404 [==============================] - 0s 220us/sample - loss: 29.7706\n",
      "Epoch 256/500\n",
      "404/404 [==============================] - 0s 220us/sample - loss: 28.4440\n",
      "Epoch 257/500\n",
      "404/404 [==============================] - 0s 222us/sample - loss: 28.4927\n",
      "Epoch 258/500\n",
      "404/404 [==============================] - 0s 222us/sample - loss: 27.9694\n",
      "Epoch 259/500\n",
      "404/404 [==============================] - 0s 237us/sample - loss: 28.7480\n",
      "Epoch 260/500\n",
      "404/404 [==============================] - 0s 220us/sample - loss: 28.0749\n",
      "Epoch 261/500\n",
      "404/404 [==============================] - 0s 222us/sample - loss: 28.1980\n",
      "Epoch 262/500\n",
      "404/404 [==============================] - 0s 230us/sample - loss: 28.5987\n",
      "Epoch 263/500\n",
      "404/404 [==============================] - 0s 245us/sample - loss: 28.8327\n",
      "Epoch 264/500\n",
      "404/404 [==============================] - 0s 217us/sample - loss: 28.8309\n",
      "Epoch 265/500\n",
      "404/404 [==============================] - 0s 225us/sample - loss: 28.5383\n",
      "Epoch 266/500\n",
      "404/404 [==============================] - 0s 225us/sample - loss: 28.4403\n",
      "Epoch 267/500\n",
      "404/404 [==============================] - 0s 222us/sample - loss: 29.4051\n",
      "Epoch 268/500\n",
      "404/404 [==============================] - 0s 217us/sample - loss: 28.0210\n",
      "Epoch 269/500\n",
      "404/404 [==============================] - 0s 222us/sample - loss: 28.3648\n",
      "Epoch 270/500\n",
      "404/404 [==============================] - 0s 213us/sample - loss: 28.3352\n",
      "Epoch 271/500\n",
      "404/404 [==============================] - ETA: 0s - loss: 30.12 - 0s 222us/sample - loss: 28.1857\n",
      "Epoch 272/500\n",
      "404/404 [==============================] - 0s 208us/sample - loss: 28.3631\n",
      "Epoch 273/500\n",
      "404/404 [==============================] - 0s 220us/sample - loss: 28.3980\n"
     ]
    },
    {
     "name": "stdout",
     "output_type": "stream",
     "text": [
      "Epoch 274/500\n",
      "404/404 [==============================] - 0s 222us/sample - loss: 28.5288\n",
      "Epoch 275/500\n",
      "404/404 [==============================] - 0s 220us/sample - loss: 28.1943\n",
      "Epoch 276/500\n",
      "404/404 [==============================] - 0s 217us/sample - loss: 27.9745\n",
      "Epoch 277/500\n",
      "404/404 [==============================] - 0s 213us/sample - loss: 28.7968\n",
      "Epoch 278/500\n",
      "404/404 [==============================] - 0s 245us/sample - loss: 28.6323\n",
      "Epoch 279/500\n",
      "404/404 [==============================] - 0s 205us/sample - loss: 28.6888\n",
      "Epoch 280/500\n",
      "404/404 [==============================] - 0s 220us/sample - loss: 28.1888\n",
      "Epoch 281/500\n",
      "404/404 [==============================] - 0s 200us/sample - loss: 28.7159\n",
      "Epoch 282/500\n",
      "404/404 [==============================] - 0s 205us/sample - loss: 28.1704\n",
      "Epoch 283/500\n",
      "404/404 [==============================] - 0s 235us/sample - loss: 28.7617\n",
      "Epoch 284/500\n",
      "404/404 [==============================] - 0s 222us/sample - loss: 28.5710\n",
      "Epoch 285/500\n",
      "404/404 [==============================] - 0s 230us/sample - loss: 28.7855\n",
      "Epoch 286/500\n",
      "404/404 [==============================] - 0s 213us/sample - loss: 28.5059\n",
      "Epoch 287/500\n",
      "404/404 [==============================] - 0s 205us/sample - loss: 28.6980\n",
      "Epoch 288/500\n",
      "404/404 [==============================] - 0s 222us/sample - loss: 28.2996\n",
      "Epoch 289/500\n",
      "404/404 [==============================] - 0s 220us/sample - loss: 28.5549\n",
      "Epoch 290/500\n",
      "404/404 [==============================] - 0s 210us/sample - loss: 28.4947\n",
      "Epoch 291/500\n",
      "404/404 [==============================] - 0s 210us/sample - loss: 28.2731\n",
      "Epoch 292/500\n",
      "404/404 [==============================] - 0s 208us/sample - loss: 28.0485\n",
      "Epoch 293/500\n",
      "404/404 [==============================] - 0s 208us/sample - loss: 28.3282\n",
      "Epoch 294/500\n",
      "404/404 [==============================] - 0s 205us/sample - loss: 28.0762\n",
      "Epoch 295/500\n",
      "404/404 [==============================] - 0s 217us/sample - loss: 28.3925\n",
      "Epoch 296/500\n",
      "404/404 [==============================] - 0s 220us/sample - loss: 29.5202\n",
      "Epoch 297/500\n",
      "404/404 [==============================] - 0s 217us/sample - loss: 28.3201\n",
      "Epoch 298/500\n",
      "404/404 [==============================] - 0s 210us/sample - loss: 28.2996\n",
      "Epoch 299/500\n",
      "404/404 [==============================] - 0s 225us/sample - loss: 28.2927\n",
      "Epoch 300/500\n",
      "404/404 [==============================] - 0s 215us/sample - loss: 28.0751\n",
      "Epoch 301/500\n",
      "404/404 [==============================] - 0s 220us/sample - loss: 28.1948\n",
      "Epoch 302/500\n",
      "404/404 [==============================] - 0s 227us/sample - loss: 28.3978\n",
      "Epoch 303/500\n",
      "404/404 [==============================] - 0s 205us/sample - loss: 28.4081\n",
      "Epoch 304/500\n",
      "404/404 [==============================] - 0s 220us/sample - loss: 28.3752\n",
      "Epoch 305/500\n",
      "404/404 [==============================] - 0s 213us/sample - loss: 28.2276\n",
      "Epoch 306/500\n",
      "404/404 [==============================] - 0s 232us/sample - loss: 28.3393\n",
      "Epoch 307/500\n",
      "404/404 [==============================] - 0s 213us/sample - loss: 28.2008\n",
      "Epoch 308/500\n",
      "404/404 [==============================] - 0s 210us/sample - loss: 28.5150\n",
      "Epoch 309/500\n",
      "404/404 [==============================] - 0s 210us/sample - loss: 28.1111\n",
      "Epoch 310/500\n",
      "404/404 [==============================] - 0s 235us/sample - loss: 28.0990\n",
      "Epoch 311/500\n",
      "404/404 [==============================] - 0s 215us/sample - loss: 28.3811\n",
      "Epoch 312/500\n",
      "404/404 [==============================] - 0s 203us/sample - loss: 28.1858\n",
      "Epoch 313/500\n",
      "404/404 [==============================] - 0s 217us/sample - loss: 28.2834\n",
      "Epoch 314/500\n",
      "404/404 [==============================] - 0s 215us/sample - loss: 28.0544\n",
      "Epoch 315/500\n",
      "404/404 [==============================] - 0s 210us/sample - loss: 28.4057\n",
      "Epoch 316/500\n",
      "404/404 [==============================] - 0s 227us/sample - loss: 28.2239\n",
      "Epoch 317/500\n",
      "404/404 [==============================] - 0s 215us/sample - loss: 28.4553\n",
      "Epoch 318/500\n",
      "404/404 [==============================] - 0s 210us/sample - loss: 28.2058\n",
      "Epoch 319/500\n",
      "404/404 [==============================] - 0s 217us/sample - loss: 28.2360\n",
      "Epoch 320/500\n",
      "404/404 [==============================] - 0s 205us/sample - loss: 28.6041\n",
      "Epoch 321/500\n",
      "404/404 [==============================] - 0s 222us/sample - loss: 28.8964\n",
      "Epoch 322/500\n",
      "404/404 [==============================] - 0s 208us/sample - loss: 29.5861\n",
      "Epoch 323/500\n",
      "404/404 [==============================] - 0s 225us/sample - loss: 28.2765\n",
      "Epoch 324/500\n",
      "404/404 [==============================] - 0s 225us/sample - loss: 28.4256\n",
      "Epoch 325/500\n",
      "404/404 [==============================] - 0s 227us/sample - loss: 28.2108\n",
      "Epoch 326/500\n",
      "404/404 [==============================] - 0s 222us/sample - loss: 28.6593\n",
      "Epoch 327/500\n",
      "404/404 [==============================] - 0s 252us/sample - loss: 28.5360\n",
      "Epoch 328/500\n",
      "404/404 [==============================] - 0s 230us/sample - loss: 28.1698\n",
      "Epoch 329/500\n",
      "404/404 [==============================] - 0s 220us/sample - loss: 28.3338\n",
      "Epoch 330/500\n",
      "404/404 [==============================] - 0s 208us/sample - loss: 28.0095\n",
      "Epoch 331/500\n",
      "404/404 [==============================] - 0s 225us/sample - loss: 28.4347\n",
      "Epoch 332/500\n",
      "404/404 [==============================] - 0s 232us/sample - loss: 28.1765\n",
      "Epoch 333/500\n",
      "404/404 [==============================] - 0s 242us/sample - loss: 29.1357\n",
      "Epoch 334/500\n",
      "404/404 [==============================] - 0s 222us/sample - loss: 28.4974\n",
      "Epoch 335/500\n",
      "404/404 [==============================] - 0s 213us/sample - loss: 28.2814\n",
      "Epoch 336/500\n",
      "404/404 [==============================] - 0s 222us/sample - loss: 28.6145\n",
      "Epoch 337/500\n",
      "404/404 [==============================] - 0s 230us/sample - loss: 28.6064\n",
      "Epoch 338/500\n",
      "404/404 [==============================] - 0s 215us/sample - loss: 28.1366\n",
      "Epoch 339/500\n",
      "404/404 [==============================] - 0s 232us/sample - loss: 28.3050\n",
      "Epoch 340/500\n",
      "404/404 [==============================] - 0s 217us/sample - loss: 28.2703\n",
      "Epoch 341/500\n",
      "404/404 [==============================] - 0s 274us/sample - loss: 28.2663\n",
      "Epoch 342/500\n",
      "404/404 [==============================] - 0s 208us/sample - loss: 28.2825\n",
      "Epoch 343/500\n",
      "404/404 [==============================] - 0s 235us/sample - loss: 29.2677\n",
      "Epoch 344/500\n",
      "404/404 [==============================] - 0s 220us/sample - loss: 28.0467\n",
      "Epoch 345/500\n",
      "404/404 [==============================] - 0s 213us/sample - loss: 28.7710\n",
      "Epoch 346/500\n",
      "404/404 [==============================] - 0s 213us/sample - loss: 28.5465\n",
      "Epoch 347/500\n",
      "404/404 [==============================] - 0s 225us/sample - loss: 28.7747\n",
      "Epoch 348/500\n",
      "404/404 [==============================] - 0s 227us/sample - loss: 27.8104\n",
      "Epoch 349/500\n",
      "404/404 [==============================] - 0s 208us/sample - loss: 28.8482\n",
      "Epoch 350/500\n",
      "404/404 [==============================] - 0s 208us/sample - loss: 28.8281\n",
      "Epoch 351/500\n",
      "404/404 [==============================] - 0s 205us/sample - loss: 28.1659\n",
      "Epoch 352/500\n",
      "404/404 [==============================] - 0s 208us/sample - loss: 28.1336\n",
      "Epoch 353/500\n",
      "404/404 [==============================] - 0s 210us/sample - loss: 28.0652\n",
      "Epoch 354/500\n",
      "404/404 [==============================] - 0s 217us/sample - loss: 28.3347\n",
      "Epoch 355/500\n",
      "404/404 [==============================] - 0s 210us/sample - loss: 28.7116\n",
      "Epoch 356/500\n",
      "404/404 [==============================] - 0s 213us/sample - loss: 28.0349\n",
      "Epoch 357/500\n",
      "404/404 [==============================] - 0s 205us/sample - loss: 28.5609\n",
      "Epoch 358/500\n",
      "404/404 [==============================] - 0s 220us/sample - loss: 28.5705\n",
      "Epoch 359/500\n",
      "404/404 [==============================] - 0s 200us/sample - loss: 28.1658\n",
      "Epoch 360/500\n",
      "404/404 [==============================] - 0s 213us/sample - loss: 28.0378\n",
      "Epoch 361/500\n",
      "404/404 [==============================] - 0s 213us/sample - loss: 28.5313\n",
      "Epoch 362/500\n",
      "404/404 [==============================] - 0s 208us/sample - loss: 28.2202\n",
      "Epoch 363/500\n",
      "404/404 [==============================] - 0s 215us/sample - loss: 28.3556\n",
      "Epoch 364/500\n",
      "404/404 [==============================] - 0s 210us/sample - loss: 28.8499\n",
      "Epoch 365/500\n",
      "404/404 [==============================] - 0s 215us/sample - loss: 28.1802\n",
      "Epoch 366/500\n"
     ]
    },
    {
     "name": "stdout",
     "output_type": "stream",
     "text": [
      "404/404 [==============================] - 0s 213us/sample - loss: 28.2491\n",
      "Epoch 367/500\n",
      "404/404 [==============================] - 0s 210us/sample - loss: 27.9953\n",
      "Epoch 368/500\n",
      "404/404 [==============================] - ETA: 0s - loss: 31.33 - 0s 208us/sample - loss: 28.2407\n",
      "Epoch 369/500\n",
      "404/404 [==============================] - 0s 356us/sample - loss: 27.9303\n",
      "Epoch 370/500\n",
      "404/404 [==============================] - 0s 255us/sample - loss: 28.4083\n",
      "Epoch 371/500\n",
      "404/404 [==============================] - 0s 222us/sample - loss: 28.3239\n",
      "Epoch 372/500\n",
      "404/404 [==============================] - 0s 222us/sample - loss: 28.7101\n",
      "Epoch 373/500\n",
      "404/404 [==============================] - 0s 208us/sample - loss: 28.0500\n",
      "Epoch 374/500\n",
      "404/404 [==============================] - 0s 215us/sample - loss: 28.3838\n",
      "Epoch 375/500\n",
      "404/404 [==============================] - 0s 220us/sample - loss: 30.2619\n",
      "Epoch 376/500\n",
      "404/404 [==============================] - 0s 220us/sample - loss: 28.5266\n",
      "Epoch 377/500\n",
      "404/404 [==============================] - 0s 215us/sample - loss: 28.3706\n",
      "Epoch 378/500\n",
      "404/404 [==============================] - 0s 235us/sample - loss: 28.1809\n",
      "Epoch 379/500\n",
      "404/404 [==============================] - 0s 245us/sample - loss: 28.0800\n",
      "Epoch 380/500\n",
      "404/404 [==============================] - 0s 208us/sample - loss: 28.0286\n",
      "Epoch 381/500\n",
      "404/404 [==============================] - 0s 213us/sample - loss: 28.3160\n",
      "Epoch 382/500\n",
      "404/404 [==============================] - 0s 217us/sample - loss: 28.2849\n",
      "Epoch 383/500\n",
      "404/404 [==============================] - 0s 208us/sample - loss: 28.3451\n",
      "Epoch 384/500\n",
      "404/404 [==============================] - 0s 208us/sample - loss: 28.4246\n",
      "Epoch 385/500\n",
      "404/404 [==============================] - 0s 210us/sample - loss: 28.2114\n",
      "Epoch 386/500\n",
      "404/404 [==============================] - 0s 227us/sample - loss: 28.3126\n",
      "Epoch 387/500\n",
      "404/404 [==============================] - 0s 237us/sample - loss: 28.5879\n",
      "Epoch 388/500\n",
      "404/404 [==============================] - 0s 227us/sample - loss: 29.3034\n",
      "Epoch 389/500\n",
      "404/404 [==============================] - 0s 213us/sample - loss: 28.4239\n",
      "Epoch 390/500\n",
      "404/404 [==============================] - 0s 235us/sample - loss: 28.0457\n",
      "Epoch 391/500\n",
      "404/404 [==============================] - 0s 225us/sample - loss: 28.7662\n",
      "Epoch 392/500\n",
      "404/404 [==============================] - 0s 220us/sample - loss: 28.7451\n",
      "Epoch 393/500\n",
      "404/404 [==============================] - 0s 215us/sample - loss: 28.1476\n",
      "Epoch 394/500\n",
      "404/404 [==============================] - 0s 215us/sample - loss: 28.2173\n",
      "Epoch 395/500\n",
      "404/404 [==============================] - 0s 215us/sample - loss: 28.1336\n",
      "Epoch 396/500\n",
      "404/404 [==============================] - 0s 222us/sample - loss: 28.0217\n",
      "Epoch 397/500\n",
      "404/404 [==============================] - 0s 235us/sample - loss: 28.1832\n",
      "Epoch 398/500\n",
      "404/404 [==============================] - 0s 237us/sample - loss: 27.9080\n",
      "Epoch 399/500\n",
      "404/404 [==============================] - 0s 240us/sample - loss: 28.5441\n",
      "Epoch 400/500\n",
      "404/404 [==============================] - 0s 237us/sample - loss: 28.0226\n",
      "Epoch 401/500\n",
      "404/404 [==============================] - 0s 217us/sample - loss: 28.6300\n",
      "Epoch 402/500\n",
      "404/404 [==============================] - 0s 217us/sample - loss: 28.4332\n",
      "Epoch 403/500\n",
      "404/404 [==============================] - 0s 195us/sample - loss: 28.0993\n",
      "Epoch 404/500\n",
      "404/404 [==============================] - 0s 208us/sample - loss: 28.2033\n",
      "Epoch 405/500\n",
      "404/404 [==============================] - 0s 242us/sample - loss: 28.1495\n",
      "Epoch 406/500\n",
      "404/404 [==============================] - 0s 240us/sample - loss: 28.7765\n",
      "Epoch 407/500\n",
      "404/404 [==============================] - 0s 230us/sample - loss: 28.7175\n",
      "Epoch 408/500\n",
      "404/404 [==============================] - 0s 213us/sample - loss: 28.1497\n",
      "Epoch 409/500\n",
      "404/404 [==============================] - 0s 222us/sample - loss: 28.2542\n",
      "Epoch 410/500\n",
      "404/404 [==============================] - 0s 235us/sample - loss: 28.0711\n",
      "Epoch 411/500\n",
      "404/404 [==============================] - 0s 230us/sample - loss: 28.3198\n",
      "Epoch 412/500\n",
      "404/404 [==============================] - 0s 240us/sample - loss: 28.2153\n",
      "Epoch 413/500\n",
      "404/404 [==============================] - 0s 227us/sample - loss: 28.3630\n",
      "Epoch 414/500\n",
      "404/404 [==============================] - 0s 235us/sample - loss: 28.0249\n",
      "Epoch 415/500\n",
      "404/404 [==============================] - 0s 230us/sample - loss: 28.1951\n",
      "Epoch 416/500\n",
      "404/404 [==============================] - 0s 220us/sample - loss: 27.9928\n",
      "Epoch 417/500\n",
      "404/404 [==============================] - 0s 217us/sample - loss: 29.0506\n",
      "Epoch 418/500\n",
      "404/404 [==============================] - 0s 227us/sample - loss: 28.5331\n",
      "Epoch 419/500\n",
      "404/404 [==============================] - 0s 217us/sample - loss: 28.1308\n",
      "Epoch 420/500\n",
      "404/404 [==============================] - 0s 215us/sample - loss: 29.3917\n",
      "Epoch 421/500\n",
      "404/404 [==============================] - 0s 240us/sample - loss: 28.1492\n",
      "Epoch 422/500\n",
      "404/404 [==============================] - 0s 210us/sample - loss: 28.1320\n",
      "Epoch 423/500\n",
      "404/404 [==============================] - 0s 225us/sample - loss: 28.1676\n",
      "Epoch 424/500\n",
      "404/404 [==============================] - 0s 220us/sample - loss: 28.2029\n",
      "Epoch 425/500\n",
      "404/404 [==============================] - 0s 213us/sample - loss: 29.1411\n",
      "Epoch 426/500\n",
      "404/404 [==============================] - 0s 225us/sample - loss: 28.3922\n",
      "Epoch 427/500\n",
      "404/404 [==============================] - 0s 220us/sample - loss: 28.5553\n",
      "Epoch 428/500\n",
      "404/404 [==============================] - 0s 213us/sample - loss: 28.4083 - loss: 28.96\n",
      "Epoch 429/500\n",
      "404/404 [==============================] - 0s 220us/sample - loss: 28.4170\n",
      "Epoch 430/500\n",
      "404/404 [==============================] - 0s 210us/sample - loss: 28.1400\n",
      "Epoch 431/500\n",
      "404/404 [==============================] - 0s 215us/sample - loss: 28.3475\n",
      "Epoch 432/500\n",
      "404/404 [==============================] - 0s 215us/sample - loss: 28.0869\n",
      "Epoch 433/500\n",
      "404/404 [==============================] - 0s 213us/sample - loss: 28.4088\n",
      "Epoch 434/500\n",
      "404/404 [==============================] - 0s 217us/sample - loss: 29.5167\n",
      "Epoch 435/500\n",
      "404/404 [==============================] - 0s 213us/sample - loss: 28.0995\n",
      "Epoch 436/500\n",
      "404/404 [==============================] - 0s 208us/sample - loss: 27.9773\n",
      "Epoch 437/500\n",
      "404/404 [==============================] - 0s 213us/sample - loss: 28.3354\n",
      "Epoch 438/500\n",
      "404/404 [==============================] - 0s 220us/sample - loss: 28.4946\n",
      "Epoch 439/500\n",
      "404/404 [==============================] - 0s 210us/sample - loss: 28.5070\n",
      "Epoch 440/500\n",
      "404/404 [==============================] - 0s 225us/sample - loss: 28.0161 - loss: 27.13\n",
      "Epoch 441/500\n",
      "404/404 [==============================] - 0s 215us/sample - loss: 28.5703\n",
      "Epoch 442/500\n",
      "404/404 [==============================] - 0s 217us/sample - loss: 28.6730\n",
      "Epoch 443/500\n",
      "404/404 [==============================] - 0s 210us/sample - loss: 28.3983\n",
      "Epoch 444/500\n",
      "404/404 [==============================] - 0s 213us/sample - loss: 28.1211\n",
      "Epoch 445/500\n",
      "404/404 [==============================] - 0s 215us/sample - loss: 28.1062\n",
      "Epoch 446/500\n",
      "404/404 [==============================] - 0s 210us/sample - loss: 28.3920\n",
      "Epoch 447/500\n",
      "404/404 [==============================] - 0s 220us/sample - loss: 28.4706\n",
      "Epoch 448/500\n",
      "404/404 [==============================] - 0s 198us/sample - loss: 28.3754\n",
      "Epoch 449/500\n",
      "404/404 [==============================] - 0s 217us/sample - loss: 28.1081\n",
      "Epoch 450/500\n",
      "404/404 [==============================] - 0s 210us/sample - loss: 28.2534 - loss: 27.74\n",
      "Epoch 451/500\n",
      "404/404 [==============================] - 0s 210us/sample - loss: 28.1294\n",
      "Epoch 452/500\n",
      "404/404 [==============================] - 0s 220us/sample - loss: 28.1568\n",
      "Epoch 453/500\n",
      "404/404 [==============================] - 0s 198us/sample - loss: 28.2086\n",
      "Epoch 454/500\n",
      "404/404 [==============================] - 0s 217us/sample - loss: 28.5626 - loss: 20.91\n",
      "Epoch 455/500\n",
      "404/404 [==============================] - 0s 210us/sample - loss: 28.4787\n",
      "Epoch 456/500\n",
      "404/404 [==============================] - 0s 208us/sample - loss: 28.2385\n",
      "Epoch 457/500\n"
     ]
    },
    {
     "name": "stdout",
     "output_type": "stream",
     "text": [
      "404/404 [==============================] - 0s 210us/sample - loss: 28.0412\n",
      "Epoch 458/500\n",
      "404/404 [==============================] - 0s 210us/sample - loss: 27.9597\n",
      "Epoch 459/500\n",
      "404/404 [==============================] - 0s 235us/sample - loss: 28.3542\n",
      "Epoch 460/500\n",
      "404/404 [==============================] - 0s 205us/sample - loss: 27.8573\n",
      "Epoch 461/500\n",
      "404/404 [==============================] - 0s 227us/sample - loss: 28.0912\n",
      "Epoch 462/500\n",
      "404/404 [==============================] - 0s 220us/sample - loss: 28.4689\n",
      "Epoch 463/500\n",
      "404/404 [==============================] - 0s 208us/sample - loss: 28.1098\n",
      "Epoch 464/500\n",
      "404/404 [==============================] - 0s 245us/sample - loss: 28.3471\n",
      "Epoch 465/500\n",
      "404/404 [==============================] - 0s 220us/sample - loss: 28.0006\n",
      "Epoch 466/500\n",
      "404/404 [==============================] - 0s 213us/sample - loss: 28.2538\n",
      "Epoch 467/500\n",
      "404/404 [==============================] - 0s 217us/sample - loss: 28.0565\n",
      "Epoch 468/500\n",
      "404/404 [==============================] - 0s 227us/sample - loss: 28.7024\n",
      "Epoch 469/500\n",
      "404/404 [==============================] - 0s 210us/sample - loss: 28.6259\n",
      "Epoch 470/500\n",
      "404/404 [==============================] - 0s 208us/sample - loss: 27.9910\n",
      "Epoch 471/500\n",
      "404/404 [==============================] - 0s 208us/sample - loss: 28.1577\n",
      "Epoch 472/500\n",
      "404/404 [==============================] - 0s 210us/sample - loss: 28.0213\n",
      "Epoch 473/500\n",
      "404/404 [==============================] - 0s 210us/sample - loss: 28.5610\n",
      "Epoch 474/500\n",
      "404/404 [==============================] - 0s 215us/sample - loss: 29.1250\n",
      "Epoch 475/500\n",
      "404/404 [==============================] - 0s 217us/sample - loss: 28.4767\n",
      "Epoch 476/500\n",
      "404/404 [==============================] - 0s 203us/sample - loss: 28.1269\n",
      "Epoch 477/500\n",
      "404/404 [==============================] - 0s 215us/sample - loss: 27.8210\n",
      "Epoch 478/500\n",
      "404/404 [==============================] - 0s 230us/sample - loss: 27.8269\n",
      "Epoch 479/500\n",
      "404/404 [==============================] - 0s 210us/sample - loss: 28.5880\n",
      "Epoch 480/500\n",
      "404/404 [==============================] - 0s 213us/sample - loss: 28.0478\n",
      "Epoch 481/500\n",
      "404/404 [==============================] - 0s 198us/sample - loss: 28.9435\n",
      "Epoch 482/500\n",
      "404/404 [==============================] - 0s 215us/sample - loss: 28.8097\n",
      "Epoch 483/500\n",
      "404/404 [==============================] - 0s 215us/sample - loss: 28.1385\n",
      "Epoch 484/500\n",
      "404/404 [==============================] - 0s 205us/sample - loss: 29.3420\n",
      "Epoch 485/500\n",
      "404/404 [==============================] - 0s 215us/sample - loss: 28.0592\n",
      "Epoch 486/500\n",
      "404/404 [==============================] - 0s 213us/sample - loss: 27.9780\n",
      "Epoch 487/500\n",
      "404/404 [==============================] - 0s 213us/sample - loss: 27.8252\n",
      "Epoch 488/500\n",
      "404/404 [==============================] - 0s 210us/sample - loss: 28.1973\n",
      "Epoch 489/500\n",
      "404/404 [==============================] - 0s 220us/sample - loss: 28.0207\n",
      "Epoch 490/500\n",
      "404/404 [==============================] - 0s 217us/sample - loss: 28.5493\n",
      "Epoch 491/500\n",
      "404/404 [==============================] - 0s 222us/sample - loss: 28.4929 - loss: 25.47\n",
      "Epoch 492/500\n",
      "404/404 [==============================] - 0s 203us/sample - loss: 28.2391\n",
      "Epoch 493/500\n",
      "404/404 [==============================] - 0s 208us/sample - loss: 28.2743\n",
      "Epoch 494/500\n",
      "404/404 [==============================] - 0s 225us/sample - loss: 27.9203\n",
      "Epoch 495/500\n",
      "404/404 [==============================] - 0s 227us/sample - loss: 28.9806\n",
      "Epoch 496/500\n",
      "404/404 [==============================] - 0s 225us/sample - loss: 28.5741\n",
      "Epoch 497/500\n",
      "404/404 [==============================] - 0s 210us/sample - loss: 28.1223\n",
      "Epoch 498/500\n",
      "404/404 [==============================] - 0s 227us/sample - loss: 27.9978 - loss: 26.81\n",
      "Epoch 499/500\n",
      "404/404 [==============================] - 0s 213us/sample - loss: 28.2584\n",
      "Epoch 500/500\n",
      "404/404 [==============================] - 0s 217us/sample - loss: 28.1110\n"
     ]
    },
    {
     "data": {
      "text/plain": [
       "<tensorflow.python.keras.callbacks.History at 0x1ec77368f88>"
      ]
     },
     "execution_count": 47,
     "metadata": {},
     "output_type": "execute_result"
    }
   ],
   "source": [
    "# Train the neural network.\n",
    "m.fit(inputs_train, output_train, epochs=500, batch_size=20)"
   ]
  },
  {
   "cell_type": "code",
   "execution_count": 48,
   "metadata": {
    "scrolled": true
   },
   "outputs": [],
   "source": [
    "# Train the model.\n",
    "# m.fit(inputs, output, epochs=15, batch_size=128)\n",
    "# https://stackoverflow.com/questions/37232782/nan-loss-when-training-regression-network"
   ]
  },
  {
   "cell_type": "markdown",
   "metadata": {},
   "source": [
    "### Predict"
   ]
  },
  {
   "cell_type": "code",
   "execution_count": 59,
   "metadata": {},
   "outputs": [
    {
     "name": "stderr",
     "output_type": "stream",
     "text": [
      "C:\\Users\\Frank\\Anaconda4\\lib\\site-packages\\ipykernel_launcher.py:1: FutureWarning: Method .as_matrix will be removed in a future version. Use .values instead.\n",
      "  \"\"\"Entry point for launching an IPython kernel.\n"
     ]
    },
    {
     "data": {
      "text/plain": [
       "array([[21.085077 ],\n",
       "       [ 8.564677 ],\n",
       "       [28.387304 ],\n",
       "       [21.883799 ],\n",
       "       [22.779844 ],\n",
       "       [20.092283 ],\n",
       "       [17.058725 ],\n",
       "       [23.312847 ],\n",
       "       [14.715879 ],\n",
       "       [26.481901 ],\n",
       "       [17.18955  ],\n",
       "       [20.727365 ],\n",
       "       [ 8.6186075],\n",
       "       [19.23084  ],\n",
       "       [24.9437   ],\n",
       "       [28.312124 ],\n",
       "       [28.291708 ],\n",
       "       [39.83973  ],\n",
       "       [22.4818   ],\n",
       "       [19.295954 ],\n",
       "       [14.814561 ],\n",
       "       [25.436388 ],\n",
       "       [23.470675 ],\n",
       "       [20.009672 ],\n",
       "       [36.610085 ],\n",
       "       [16.672361 ],\n",
       "       [22.649036 ],\n",
       "       [20.933031 ],\n",
       "       [31.286497 ],\n",
       "       [20.738068 ],\n",
       "       [16.893618 ],\n",
       "       [18.83049  ],\n",
       "       [28.036154 ],\n",
       "       [21.268026 ],\n",
       "       [35.2863   ],\n",
       "       [16.827492 ],\n",
       "       [28.06682  ],\n",
       "       [29.511143 ],\n",
       "       [15.662117 ],\n",
       "       [24.848894 ],\n",
       "       [14.714603 ],\n",
       "       [19.274454 ],\n",
       "       [21.746248 ],\n",
       "       [24.36772  ],\n",
       "       [32.011124 ],\n",
       "       [15.59224  ],\n",
       "       [25.287802 ],\n",
       "       [24.063028 ],\n",
       "       [39.75889  ],\n",
       "       [18.43453  ],\n",
       "       [21.823336 ],\n",
       "       [18.327951 ],\n",
       "       [31.764025 ],\n",
       "       [32.238632 ],\n",
       "       [32.4423   ],\n",
       "       [28.319849 ],\n",
       "       [19.942429 ],\n",
       "       [17.927588 ],\n",
       "       [16.295647 ],\n",
       "       [26.068392 ],\n",
       "       [19.596128 ],\n",
       "       [18.071424 ],\n",
       "       [31.644505 ],\n",
       "       [27.07659  ],\n",
       "       [27.190844 ],\n",
       "       [35.259483 ],\n",
       "       [24.07578  ],\n",
       "       [ 9.346634 ],\n",
       "       [23.273672 ],\n",
       "       [25.513298 ],\n",
       "       [34.624207 ],\n",
       "       [25.358938 ],\n",
       "       [31.55953  ],\n",
       "       [19.286928 ],\n",
       "       [16.343891 ],\n",
       "       [ 9.336994 ],\n",
       "       [20.26394  ],\n",
       "       [35.721016 ],\n",
       "       [22.03816  ],\n",
       "       [12.340961 ],\n",
       "       [19.35806  ],\n",
       "       [15.232439 ],\n",
       "       [22.193731 ],\n",
       "       [33.874985 ],\n",
       "       [24.24124  ],\n",
       "       [20.188046 ],\n",
       "       [ 2.5193   ],\n",
       "       [16.985825 ],\n",
       "       [12.023388 ],\n",
       "       [32.850067 ],\n",
       "       [33.45559  ],\n",
       "       [22.5586   ],\n",
       "       [19.227528 ],\n",
       "       [26.801718 ],\n",
       "       [32.995728 ],\n",
       "       [35.500587 ],\n",
       "       [19.74977  ],\n",
       "       [19.149323 ],\n",
       "       [18.806482 ],\n",
       "       [21.947369 ],\n",
       "       [24.086147 ],\n",
       "       [21.705883 ]], dtype=float32)"
      ]
     },
     "execution_count": 59,
     "metadata": {},
     "output_type": "execute_result"
    }
   ],
   "source": [
    "p = m.predict(inputs_test.as_matrix())\n",
    "p"
   ]
  },
  {
   "cell_type": "code",
   "execution_count": 62,
   "metadata": {},
   "outputs": [
    {
     "data": {
      "image/png": "[encoded data removed]",
      "text/plain": [
       "<Figure size 864x864 with 1 Axes>"
      ]
     },
     "metadata": {},
     "output_type": "display_data"
    }
   ],
   "source": [
    "#Plot of actual v predicted price of first 100 data points\n",
    "plt.figure(figsize=(12, 12))\n",
    "plt.plot(p[:100], 'r-', label ='Predicted MEDV')\n",
    "plt.plot(output[:100], 'b', label = 'Actual MEDV')\n",
    "plt.title(\"Predicted Prices vs Actual Prices\")\n",
    "plt.ylabel(\"Price(1000's)\")\n",
    "plt.xlabel(\"Zone\")\n",
    "plt.legend([\"Prediction\", \"Actual\"], loc=\"upper left\")\n",
    "plt.show()"
   ]
  },
  {
   "cell_type": "markdown",
   "metadata": {},
   "source": [
    "## Preprocessing the Data\n",
    "Put data into format for data analysis help the nural network make better predictions"
   ]
  },
  {
   "cell_type": "markdown",
   "metadata": {},
   "source": [
    "### Whitening"
   ]
  },
  {
   "cell_type": "code",
   "execution_count": null,
   "metadata": {},
   "outputs": [],
   "source": [
    "# https://scikit-learn.org/stable/modules/preprocessing.html#preprocessing\n",
    "xscale = pd.DataFrame(pre.scale(inputs), columns=inputs.columns)\n",
    "xscale"
   ]
  },
  {
   "cell_type": "code",
   "execution_count": null,
   "metadata": {},
   "outputs": [],
   "source": [
    "scaler = pre.StandardScaler()\n",
    "scaler.fit(inputs)\n",
    "scaler.mean_, scaler.scale_"
   ]
  },
  {
   "cell_type": "code",
   "execution_count": null,
   "metadata": {},
   "outputs": [],
   "source": [
    "xscale = pd.DataFrame(scaler.transform(inputs), columns=inputs.columns)\n",
    "xscale"
   ]
  },
  {
   "cell_type": "code",
   "execution_count": null,
   "metadata": {},
   "outputs": [],
   "source": [
    "inputs.corr()"
   ]
  },
  {
   "cell_type": "code",
   "execution_count": null,
   "metadata": {},
   "outputs": [],
   "source": [
    "pca = dec.PCA(n_components=3, whiten=True)\n",
    "pca.fit(inputs)\n",
    "xwhite = pd.DataFrame(pca.transform(inputs), columns=inputs.columns)\n",
    "xwhite"
   ]
  },
  {
   "cell_type": "code",
   "execution_count": null,
   "metadata": {},
   "outputs": [],
   "source": [
    "xwhite.corr().round()"
   ]
  },
  {
   "cell_type": "code",
   "execution_count": null,
   "metadata": {},
   "outputs": [],
   "source": [
    "xwhite.mean().round()"
   ]
  },
  {
   "cell_type": "code",
   "execution_count": null,
   "metadata": {},
   "outputs": [],
   "source": [
    "xwhite.std().round()"
   ]
  },
  {
   "cell_type": "markdown",
   "metadata": {},
   "source": [
    "END"
   ]
  },
  {
   "cell_type": "code",
   "execution_count": null,
   "metadata": {},
   "outputs": [],
   "source": []
  }
 ],
 "metadata": {
  "kernelspec": {
   "display_name": "Python 3",
   "language": "python",
   "name": "python3"
  },
  "language_info": {
   "codemirror_mode": {
    "name": "ipython",
    "version": 3
   },
   "file_extension": ".py",
   "mimetype": "text/x-python",
   "name": "python",
   "nbconvert_exporter": "python",
   "pygments_lexer": "ipython3",
   "version": "3.7.4"
  }
 },
 "nbformat": 4,
 "nbformat_minor": 2
}
